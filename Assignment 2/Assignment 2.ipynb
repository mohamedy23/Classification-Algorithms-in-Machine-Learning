{
 "cells": [
  {
   "cell_type": "markdown",
   "id": "448b5190",
   "metadata": {},
   "source": [
    "This Assignment  is done by : \n",
    "* Mohammed Youssef   T-3   46-17077\n",
    "* Mohammed Shetewy   T-5   46-13908"
   ]
  },
  {
   "cell_type": "code",
   "execution_count": 2,
   "id": "9fb44717",
   "metadata": {},
   "outputs": [],
   "source": [
    "import numpy as np\n",
    "import pandas as pd\n",
    "import seaborn as sns\n",
    "import matplotlib.pyplot as plt\n",
    "from sklearn.metrics import accuracy_score,confusion_matrix,classification_report,plot_confusion_matrix"
   ]
  },
  {
   "cell_type": "markdown",
   "id": "a4370ca1",
   "metadata": {},
   "source": [
    " 1- HeartDisease DataSet\n",
    "-----"
   ]
  },
  {
   "cell_type": "code",
   "execution_count": 2,
   "id": "10d902d3",
   "metadata": {},
   "outputs": [],
   "source": [
    "df = pd.read_csv('HeartDiseases.csv')"
   ]
  },
  {
   "cell_type": "code",
   "execution_count": 3,
   "id": "cdb1f8bc",
   "metadata": {},
   "outputs": [
    {
     "data": {
      "text/html": [
       "<div>\n",
       "<style scoped>\n",
       "    .dataframe tbody tr th:only-of-type {\n",
       "        vertical-align: middle;\n",
       "    }\n",
       "\n",
       "    .dataframe tbody tr th {\n",
       "        vertical-align: top;\n",
       "    }\n",
       "\n",
       "    .dataframe thead th {\n",
       "        text-align: right;\n",
       "    }\n",
       "</style>\n",
       "<table border=\"1\" class=\"dataframe\">\n",
       "  <thead>\n",
       "    <tr style=\"text-align: right;\">\n",
       "      <th></th>\n",
       "      <th>HeartDiseaseorAttack</th>\n",
       "      <th>HighBP</th>\n",
       "      <th>HighChol</th>\n",
       "      <th>CholCheck</th>\n",
       "      <th>BMI</th>\n",
       "      <th>Smoker</th>\n",
       "      <th>Stroke</th>\n",
       "      <th>Diabetes</th>\n",
       "      <th>PhysActivity</th>\n",
       "      <th>Fruits</th>\n",
       "      <th>...</th>\n",
       "      <th>AnyHealthcare</th>\n",
       "      <th>NoDocbcCost</th>\n",
       "      <th>GenHlth</th>\n",
       "      <th>MentHlth</th>\n",
       "      <th>PhysHlth</th>\n",
       "      <th>DiffWalk</th>\n",
       "      <th>Sex</th>\n",
       "      <th>Age</th>\n",
       "      <th>Education</th>\n",
       "      <th>Income</th>\n",
       "    </tr>\n",
       "  </thead>\n",
       "  <tbody>\n",
       "    <tr>\n",
       "      <th>0</th>\n",
       "      <td>0.0</td>\n",
       "      <td>1.0</td>\n",
       "      <td>1.0</td>\n",
       "      <td>1.0</td>\n",
       "      <td>40.0</td>\n",
       "      <td>1.0</td>\n",
       "      <td>0.0</td>\n",
       "      <td>0.0</td>\n",
       "      <td>0.0</td>\n",
       "      <td>0.0</td>\n",
       "      <td>...</td>\n",
       "      <td>1.0</td>\n",
       "      <td>0.0</td>\n",
       "      <td>5.0</td>\n",
       "      <td>18.0</td>\n",
       "      <td>15.0</td>\n",
       "      <td>1.0</td>\n",
       "      <td>0.0</td>\n",
       "      <td>9.0</td>\n",
       "      <td>4.0</td>\n",
       "      <td>3.0</td>\n",
       "    </tr>\n",
       "    <tr>\n",
       "      <th>1</th>\n",
       "      <td>0.0</td>\n",
       "      <td>0.0</td>\n",
       "      <td>0.0</td>\n",
       "      <td>0.0</td>\n",
       "      <td>25.0</td>\n",
       "      <td>1.0</td>\n",
       "      <td>0.0</td>\n",
       "      <td>0.0</td>\n",
       "      <td>1.0</td>\n",
       "      <td>0.0</td>\n",
       "      <td>...</td>\n",
       "      <td>0.0</td>\n",
       "      <td>1.0</td>\n",
       "      <td>3.0</td>\n",
       "      <td>0.0</td>\n",
       "      <td>0.0</td>\n",
       "      <td>0.0</td>\n",
       "      <td>0.0</td>\n",
       "      <td>7.0</td>\n",
       "      <td>6.0</td>\n",
       "      <td>1.0</td>\n",
       "    </tr>\n",
       "    <tr>\n",
       "      <th>2</th>\n",
       "      <td>0.0</td>\n",
       "      <td>1.0</td>\n",
       "      <td>1.0</td>\n",
       "      <td>1.0</td>\n",
       "      <td>28.0</td>\n",
       "      <td>0.0</td>\n",
       "      <td>0.0</td>\n",
       "      <td>0.0</td>\n",
       "      <td>0.0</td>\n",
       "      <td>1.0</td>\n",
       "      <td>...</td>\n",
       "      <td>1.0</td>\n",
       "      <td>1.0</td>\n",
       "      <td>5.0</td>\n",
       "      <td>30.0</td>\n",
       "      <td>30.0</td>\n",
       "      <td>1.0</td>\n",
       "      <td>0.0</td>\n",
       "      <td>9.0</td>\n",
       "      <td>4.0</td>\n",
       "      <td>8.0</td>\n",
       "    </tr>\n",
       "    <tr>\n",
       "      <th>3</th>\n",
       "      <td>0.0</td>\n",
       "      <td>1.0</td>\n",
       "      <td>0.0</td>\n",
       "      <td>1.0</td>\n",
       "      <td>27.0</td>\n",
       "      <td>0.0</td>\n",
       "      <td>0.0</td>\n",
       "      <td>0.0</td>\n",
       "      <td>1.0</td>\n",
       "      <td>1.0</td>\n",
       "      <td>...</td>\n",
       "      <td>1.0</td>\n",
       "      <td>0.0</td>\n",
       "      <td>2.0</td>\n",
       "      <td>0.0</td>\n",
       "      <td>0.0</td>\n",
       "      <td>0.0</td>\n",
       "      <td>0.0</td>\n",
       "      <td>11.0</td>\n",
       "      <td>3.0</td>\n",
       "      <td>6.0</td>\n",
       "    </tr>\n",
       "    <tr>\n",
       "      <th>4</th>\n",
       "      <td>0.0</td>\n",
       "      <td>1.0</td>\n",
       "      <td>1.0</td>\n",
       "      <td>1.0</td>\n",
       "      <td>24.0</td>\n",
       "      <td>0.0</td>\n",
       "      <td>0.0</td>\n",
       "      <td>0.0</td>\n",
       "      <td>1.0</td>\n",
       "      <td>1.0</td>\n",
       "      <td>...</td>\n",
       "      <td>1.0</td>\n",
       "      <td>0.0</td>\n",
       "      <td>2.0</td>\n",
       "      <td>3.0</td>\n",
       "      <td>0.0</td>\n",
       "      <td>0.0</td>\n",
       "      <td>0.0</td>\n",
       "      <td>11.0</td>\n",
       "      <td>5.0</td>\n",
       "      <td>4.0</td>\n",
       "    </tr>\n",
       "  </tbody>\n",
       "</table>\n",
       "<p>5 rows × 22 columns</p>\n",
       "</div>"
      ],
      "text/plain": [
       "   HeartDiseaseorAttack  HighBP  HighChol  CholCheck   BMI  Smoker  Stroke  \\\n",
       "0                   0.0     1.0       1.0        1.0  40.0     1.0     0.0   \n",
       "1                   0.0     0.0       0.0        0.0  25.0     1.0     0.0   \n",
       "2                   0.0     1.0       1.0        1.0  28.0     0.0     0.0   \n",
       "3                   0.0     1.0       0.0        1.0  27.0     0.0     0.0   \n",
       "4                   0.0     1.0       1.0        1.0  24.0     0.0     0.0   \n",
       "\n",
       "   Diabetes  PhysActivity  Fruits  ...  AnyHealthcare  NoDocbcCost  GenHlth  \\\n",
       "0       0.0           0.0     0.0  ...            1.0          0.0      5.0   \n",
       "1       0.0           1.0     0.0  ...            0.0          1.0      3.0   \n",
       "2       0.0           0.0     1.0  ...            1.0          1.0      5.0   \n",
       "3       0.0           1.0     1.0  ...            1.0          0.0      2.0   \n",
       "4       0.0           1.0     1.0  ...            1.0          0.0      2.0   \n",
       "\n",
       "   MentHlth  PhysHlth  DiffWalk  Sex   Age  Education  Income  \n",
       "0      18.0      15.0       1.0  0.0   9.0        4.0     3.0  \n",
       "1       0.0       0.0       0.0  0.0   7.0        6.0     1.0  \n",
       "2      30.0      30.0       1.0  0.0   9.0        4.0     8.0  \n",
       "3       0.0       0.0       0.0  0.0  11.0        3.0     6.0  \n",
       "4       3.0       0.0       0.0  0.0  11.0        5.0     4.0  \n",
       "\n",
       "[5 rows x 22 columns]"
      ]
     },
     "execution_count": 3,
     "metadata": {},
     "output_type": "execute_result"
    }
   ],
   "source": [
    "df.head()"
   ]
  },
  {
   "cell_type": "code",
   "execution_count": 4,
   "id": "2d80b16a",
   "metadata": {},
   "outputs": [
    {
     "name": "stdout",
     "output_type": "stream",
     "text": [
      "<class 'pandas.core.frame.DataFrame'>\n",
      "RangeIndex: 253680 entries, 0 to 253679\n",
      "Data columns (total 22 columns):\n",
      " #   Column                Non-Null Count   Dtype  \n",
      "---  ------                --------------   -----  \n",
      " 0   HeartDiseaseorAttack  253680 non-null  float64\n",
      " 1   HighBP                253680 non-null  float64\n",
      " 2   HighChol              253680 non-null  float64\n",
      " 3   CholCheck             253680 non-null  float64\n",
      " 4   BMI                   253680 non-null  float64\n",
      " 5   Smoker                253680 non-null  float64\n",
      " 6   Stroke                253680 non-null  float64\n",
      " 7   Diabetes              253680 non-null  float64\n",
      " 8   PhysActivity          253680 non-null  float64\n",
      " 9   Fruits                253680 non-null  float64\n",
      " 10  Veggies               253680 non-null  float64\n",
      " 11  HvyAlcoholConsump     253680 non-null  float64\n",
      " 12  AnyHealthcare         253680 non-null  float64\n",
      " 13  NoDocbcCost           253680 non-null  float64\n",
      " 14  GenHlth               253680 non-null  float64\n",
      " 15  MentHlth              253680 non-null  float64\n",
      " 16  PhysHlth              253680 non-null  float64\n",
      " 17  DiffWalk              253680 non-null  float64\n",
      " 18  Sex                   253680 non-null  float64\n",
      " 19  Age                   253680 non-null  float64\n",
      " 20  Education             253680 non-null  float64\n",
      " 21  Income                253680 non-null  float64\n",
      "dtypes: float64(22)\n",
      "memory usage: 42.6 MB\n"
     ]
    }
   ],
   "source": [
    "df.info()"
   ]
  },
  {
   "cell_type": "code",
   "execution_count": 5,
   "id": "0771b313",
   "metadata": {},
   "outputs": [
    {
     "data": {
      "text/html": [
       "<div>\n",
       "<style scoped>\n",
       "    .dataframe tbody tr th:only-of-type {\n",
       "        vertical-align: middle;\n",
       "    }\n",
       "\n",
       "    .dataframe tbody tr th {\n",
       "        vertical-align: top;\n",
       "    }\n",
       "\n",
       "    .dataframe thead th {\n",
       "        text-align: right;\n",
       "    }\n",
       "</style>\n",
       "<table border=\"1\" class=\"dataframe\">\n",
       "  <thead>\n",
       "    <tr style=\"text-align: right;\">\n",
       "      <th></th>\n",
       "      <th>HeartDiseaseorAttack</th>\n",
       "      <th>HighBP</th>\n",
       "      <th>HighChol</th>\n",
       "      <th>CholCheck</th>\n",
       "      <th>BMI</th>\n",
       "      <th>Smoker</th>\n",
       "      <th>Stroke</th>\n",
       "      <th>Diabetes</th>\n",
       "      <th>PhysActivity</th>\n",
       "      <th>Fruits</th>\n",
       "      <th>...</th>\n",
       "      <th>AnyHealthcare</th>\n",
       "      <th>NoDocbcCost</th>\n",
       "      <th>GenHlth</th>\n",
       "      <th>MentHlth</th>\n",
       "      <th>PhysHlth</th>\n",
       "      <th>DiffWalk</th>\n",
       "      <th>Sex</th>\n",
       "      <th>Age</th>\n",
       "      <th>Education</th>\n",
       "      <th>Income</th>\n",
       "    </tr>\n",
       "  </thead>\n",
       "  <tbody>\n",
       "    <tr>\n",
       "      <th>count</th>\n",
       "      <td>253680.000000</td>\n",
       "      <td>253680.000000</td>\n",
       "      <td>253680.000000</td>\n",
       "      <td>253680.000000</td>\n",
       "      <td>253680.000000</td>\n",
       "      <td>253680.000000</td>\n",
       "      <td>253680.000000</td>\n",
       "      <td>253680.000000</td>\n",
       "      <td>253680.000000</td>\n",
       "      <td>253680.000000</td>\n",
       "      <td>...</td>\n",
       "      <td>253680.000000</td>\n",
       "      <td>253680.000000</td>\n",
       "      <td>253680.000000</td>\n",
       "      <td>253680.000000</td>\n",
       "      <td>253680.000000</td>\n",
       "      <td>253680.000000</td>\n",
       "      <td>253680.000000</td>\n",
       "      <td>253680.000000</td>\n",
       "      <td>253680.000000</td>\n",
       "      <td>253680.000000</td>\n",
       "    </tr>\n",
       "    <tr>\n",
       "      <th>mean</th>\n",
       "      <td>0.094186</td>\n",
       "      <td>0.429001</td>\n",
       "      <td>0.424121</td>\n",
       "      <td>0.962670</td>\n",
       "      <td>28.382364</td>\n",
       "      <td>0.443169</td>\n",
       "      <td>0.040571</td>\n",
       "      <td>0.296921</td>\n",
       "      <td>0.756544</td>\n",
       "      <td>0.634256</td>\n",
       "      <td>...</td>\n",
       "      <td>0.951053</td>\n",
       "      <td>0.084177</td>\n",
       "      <td>2.511392</td>\n",
       "      <td>3.184772</td>\n",
       "      <td>4.242081</td>\n",
       "      <td>0.168224</td>\n",
       "      <td>0.440342</td>\n",
       "      <td>8.032119</td>\n",
       "      <td>5.050434</td>\n",
       "      <td>6.053875</td>\n",
       "    </tr>\n",
       "    <tr>\n",
       "      <th>std</th>\n",
       "      <td>0.292087</td>\n",
       "      <td>0.494934</td>\n",
       "      <td>0.494210</td>\n",
       "      <td>0.189571</td>\n",
       "      <td>6.608694</td>\n",
       "      <td>0.496761</td>\n",
       "      <td>0.197294</td>\n",
       "      <td>0.698160</td>\n",
       "      <td>0.429169</td>\n",
       "      <td>0.481639</td>\n",
       "      <td>...</td>\n",
       "      <td>0.215759</td>\n",
       "      <td>0.277654</td>\n",
       "      <td>1.068477</td>\n",
       "      <td>7.412847</td>\n",
       "      <td>8.717951</td>\n",
       "      <td>0.374066</td>\n",
       "      <td>0.496429</td>\n",
       "      <td>3.054220</td>\n",
       "      <td>0.985774</td>\n",
       "      <td>2.071148</td>\n",
       "    </tr>\n",
       "    <tr>\n",
       "      <th>min</th>\n",
       "      <td>0.000000</td>\n",
       "      <td>0.000000</td>\n",
       "      <td>0.000000</td>\n",
       "      <td>0.000000</td>\n",
       "      <td>12.000000</td>\n",
       "      <td>0.000000</td>\n",
       "      <td>0.000000</td>\n",
       "      <td>0.000000</td>\n",
       "      <td>0.000000</td>\n",
       "      <td>0.000000</td>\n",
       "      <td>...</td>\n",
       "      <td>0.000000</td>\n",
       "      <td>0.000000</td>\n",
       "      <td>1.000000</td>\n",
       "      <td>0.000000</td>\n",
       "      <td>0.000000</td>\n",
       "      <td>0.000000</td>\n",
       "      <td>0.000000</td>\n",
       "      <td>1.000000</td>\n",
       "      <td>1.000000</td>\n",
       "      <td>1.000000</td>\n",
       "    </tr>\n",
       "    <tr>\n",
       "      <th>25%</th>\n",
       "      <td>0.000000</td>\n",
       "      <td>0.000000</td>\n",
       "      <td>0.000000</td>\n",
       "      <td>1.000000</td>\n",
       "      <td>24.000000</td>\n",
       "      <td>0.000000</td>\n",
       "      <td>0.000000</td>\n",
       "      <td>0.000000</td>\n",
       "      <td>1.000000</td>\n",
       "      <td>0.000000</td>\n",
       "      <td>...</td>\n",
       "      <td>1.000000</td>\n",
       "      <td>0.000000</td>\n",
       "      <td>2.000000</td>\n",
       "      <td>0.000000</td>\n",
       "      <td>0.000000</td>\n",
       "      <td>0.000000</td>\n",
       "      <td>0.000000</td>\n",
       "      <td>6.000000</td>\n",
       "      <td>4.000000</td>\n",
       "      <td>5.000000</td>\n",
       "    </tr>\n",
       "    <tr>\n",
       "      <th>50%</th>\n",
       "      <td>0.000000</td>\n",
       "      <td>0.000000</td>\n",
       "      <td>0.000000</td>\n",
       "      <td>1.000000</td>\n",
       "      <td>27.000000</td>\n",
       "      <td>0.000000</td>\n",
       "      <td>0.000000</td>\n",
       "      <td>0.000000</td>\n",
       "      <td>1.000000</td>\n",
       "      <td>1.000000</td>\n",
       "      <td>...</td>\n",
       "      <td>1.000000</td>\n",
       "      <td>0.000000</td>\n",
       "      <td>2.000000</td>\n",
       "      <td>0.000000</td>\n",
       "      <td>0.000000</td>\n",
       "      <td>0.000000</td>\n",
       "      <td>0.000000</td>\n",
       "      <td>8.000000</td>\n",
       "      <td>5.000000</td>\n",
       "      <td>7.000000</td>\n",
       "    </tr>\n",
       "    <tr>\n",
       "      <th>75%</th>\n",
       "      <td>0.000000</td>\n",
       "      <td>1.000000</td>\n",
       "      <td>1.000000</td>\n",
       "      <td>1.000000</td>\n",
       "      <td>31.000000</td>\n",
       "      <td>1.000000</td>\n",
       "      <td>0.000000</td>\n",
       "      <td>0.000000</td>\n",
       "      <td>1.000000</td>\n",
       "      <td>1.000000</td>\n",
       "      <td>...</td>\n",
       "      <td>1.000000</td>\n",
       "      <td>0.000000</td>\n",
       "      <td>3.000000</td>\n",
       "      <td>2.000000</td>\n",
       "      <td>3.000000</td>\n",
       "      <td>0.000000</td>\n",
       "      <td>1.000000</td>\n",
       "      <td>10.000000</td>\n",
       "      <td>6.000000</td>\n",
       "      <td>8.000000</td>\n",
       "    </tr>\n",
       "    <tr>\n",
       "      <th>max</th>\n",
       "      <td>1.000000</td>\n",
       "      <td>1.000000</td>\n",
       "      <td>1.000000</td>\n",
       "      <td>1.000000</td>\n",
       "      <td>98.000000</td>\n",
       "      <td>1.000000</td>\n",
       "      <td>1.000000</td>\n",
       "      <td>2.000000</td>\n",
       "      <td>1.000000</td>\n",
       "      <td>1.000000</td>\n",
       "      <td>...</td>\n",
       "      <td>1.000000</td>\n",
       "      <td>1.000000</td>\n",
       "      <td>5.000000</td>\n",
       "      <td>30.000000</td>\n",
       "      <td>30.000000</td>\n",
       "      <td>1.000000</td>\n",
       "      <td>1.000000</td>\n",
       "      <td>13.000000</td>\n",
       "      <td>6.000000</td>\n",
       "      <td>8.000000</td>\n",
       "    </tr>\n",
       "  </tbody>\n",
       "</table>\n",
       "<p>8 rows × 22 columns</p>\n",
       "</div>"
      ],
      "text/plain": [
       "       HeartDiseaseorAttack         HighBP       HighChol      CholCheck  \\\n",
       "count         253680.000000  253680.000000  253680.000000  253680.000000   \n",
       "mean               0.094186       0.429001       0.424121       0.962670   \n",
       "std                0.292087       0.494934       0.494210       0.189571   \n",
       "min                0.000000       0.000000       0.000000       0.000000   \n",
       "25%                0.000000       0.000000       0.000000       1.000000   \n",
       "50%                0.000000       0.000000       0.000000       1.000000   \n",
       "75%                0.000000       1.000000       1.000000       1.000000   \n",
       "max                1.000000       1.000000       1.000000       1.000000   \n",
       "\n",
       "                 BMI         Smoker         Stroke       Diabetes  \\\n",
       "count  253680.000000  253680.000000  253680.000000  253680.000000   \n",
       "mean       28.382364       0.443169       0.040571       0.296921   \n",
       "std         6.608694       0.496761       0.197294       0.698160   \n",
       "min        12.000000       0.000000       0.000000       0.000000   \n",
       "25%        24.000000       0.000000       0.000000       0.000000   \n",
       "50%        27.000000       0.000000       0.000000       0.000000   \n",
       "75%        31.000000       1.000000       0.000000       0.000000   \n",
       "max        98.000000       1.000000       1.000000       2.000000   \n",
       "\n",
       "        PhysActivity         Fruits  ...  AnyHealthcare    NoDocbcCost  \\\n",
       "count  253680.000000  253680.000000  ...  253680.000000  253680.000000   \n",
       "mean        0.756544       0.634256  ...       0.951053       0.084177   \n",
       "std         0.429169       0.481639  ...       0.215759       0.277654   \n",
       "min         0.000000       0.000000  ...       0.000000       0.000000   \n",
       "25%         1.000000       0.000000  ...       1.000000       0.000000   \n",
       "50%         1.000000       1.000000  ...       1.000000       0.000000   \n",
       "75%         1.000000       1.000000  ...       1.000000       0.000000   \n",
       "max         1.000000       1.000000  ...       1.000000       1.000000   \n",
       "\n",
       "             GenHlth       MentHlth       PhysHlth       DiffWalk  \\\n",
       "count  253680.000000  253680.000000  253680.000000  253680.000000   \n",
       "mean        2.511392       3.184772       4.242081       0.168224   \n",
       "std         1.068477       7.412847       8.717951       0.374066   \n",
       "min         1.000000       0.000000       0.000000       0.000000   \n",
       "25%         2.000000       0.000000       0.000000       0.000000   \n",
       "50%         2.000000       0.000000       0.000000       0.000000   \n",
       "75%         3.000000       2.000000       3.000000       0.000000   \n",
       "max         5.000000      30.000000      30.000000       1.000000   \n",
       "\n",
       "                 Sex            Age      Education         Income  \n",
       "count  253680.000000  253680.000000  253680.000000  253680.000000  \n",
       "mean        0.440342       8.032119       5.050434       6.053875  \n",
       "std         0.496429       3.054220       0.985774       2.071148  \n",
       "min         0.000000       1.000000       1.000000       1.000000  \n",
       "25%         0.000000       6.000000       4.000000       5.000000  \n",
       "50%         0.000000       8.000000       5.000000       7.000000  \n",
       "75%         1.000000      10.000000       6.000000       8.000000  \n",
       "max         1.000000      13.000000       6.000000       8.000000  \n",
       "\n",
       "[8 rows x 22 columns]"
      ]
     },
     "execution_count": 5,
     "metadata": {},
     "output_type": "execute_result"
    }
   ],
   "source": [
    "df.describe()"
   ]
  },
  {
   "cell_type": "code",
   "execution_count": 6,
   "id": "aff10205",
   "metadata": {},
   "outputs": [
    {
     "data": {
      "text/plain": [
       "array([0., 1.])"
      ]
     },
     "execution_count": 6,
     "metadata": {},
     "output_type": "execute_result"
    }
   ],
   "source": [
    "df.HeartDiseaseorAttack.unique()"
   ]
  },
  {
   "cell_type": "markdown",
   "id": "d5c75879",
   "metadata": {},
   "source": [
    "Our target/dependent variable is descrete, 1 represents having heart attack, and 0 represents not having a heart attack"
   ]
  },
  {
   "cell_type": "code",
   "execution_count": 7,
   "id": "43933155",
   "metadata": {},
   "outputs": [
    {
     "data": {
      "text/plain": [
       "0.0    229787\n",
       "1.0     23893\n",
       "Name: HeartDiseaseorAttack, dtype: int64"
      ]
     },
     "execution_count": 7,
     "metadata": {},
     "output_type": "execute_result"
    }
   ],
   "source": [
    "df.HeartDiseaseorAttack.value_counts()"
   ]
  },
  {
   "cell_type": "markdown",
   "id": "aa26bc55",
   "metadata": {},
   "source": [
    "As you can see, many people do not have heart attack compared to those who have"
   ]
  },
  {
   "cell_type": "code",
   "execution_count": 8,
   "id": "795c47d1",
   "metadata": {},
   "outputs": [
    {
     "data": {
      "text/plain": [
       "HeartDiseaseorAttack    0\n",
       "HighBP                  0\n",
       "HighChol                0\n",
       "CholCheck               0\n",
       "BMI                     0\n",
       "Smoker                  0\n",
       "Stroke                  0\n",
       "Diabetes                0\n",
       "PhysActivity            0\n",
       "Fruits                  0\n",
       "Veggies                 0\n",
       "HvyAlcoholConsump       0\n",
       "AnyHealthcare           0\n",
       "NoDocbcCost             0\n",
       "GenHlth                 0\n",
       "MentHlth                0\n",
       "PhysHlth                0\n",
       "DiffWalk                0\n",
       "Sex                     0\n",
       "Age                     0\n",
       "Education               0\n",
       "Income                  0\n",
       "dtype: int64"
      ]
     },
     "execution_count": 8,
     "metadata": {},
     "output_type": "execute_result"
    }
   ],
   "source": [
    "df.isnull().sum()"
   ]
  },
  {
   "cell_type": "markdown",
   "id": "8de21b4f",
   "metadata": {},
   "source": [
    "We do not have any null value"
   ]
  },
  {
   "cell_type": "markdown",
   "id": "66cc6b2d",
   "metadata": {},
   "source": [
    "Now, let's deal with the data using two approaches :\n",
    "* drop the features that has low correlation with the target variable, so we can run much faster \n",
    "* without dropping any feature\n",
    "\n",
    "and we will compare between the accuracy for each model under each approach"
   ]
  },
  {
   "cell_type": "markdown",
   "id": "54d6c24f",
   "metadata": {},
   "source": [
    "1.1) drop some features\n",
    "----"
   ]
  },
  {
   "cell_type": "code",
   "execution_count": 9,
   "id": "919d7cf8",
   "metadata": {},
   "outputs": [
    {
     "data": {
      "text/plain": [
       "<Figure size 3600x3600 with 0 Axes>"
      ]
     },
     "metadata": {},
     "output_type": "display_data"
    },
    {
     "data": {
      "image/png": "[encoded data removed]",
      "text/plain": [
       "<Figure size 720x720 with 4 Axes>"
      ]
     },
     "metadata": {
      "needs_background": "light"
     },
     "output_type": "display_data"
    }
   ],
   "source": [
    "corr_matrix = df.corr()\n",
    "plt.figure(figsize=(50,50))\n",
    "sns.clustermap(corr_matrix, annot = True, fmt = \".2f\")\n",
    "plt.title(\"Correlation Between Features\")\n",
    "plt.show()"
   ]
  },
  {
   "cell_type": "code",
   "execution_count": 10,
   "id": "1dc23042",
   "metadata": {},
   "outputs": [
    {
     "data": {
      "text/plain": [
       "Text(0.5, 1.0, 'Correlation Between Features w Corr Threshold 0.5')"
      ]
     },
     "execution_count": 10,
     "metadata": {},
     "output_type": "execute_result"
    },
    {
     "data": {
      "image/png": "[encoded data removed]",
      "text/plain": [
       "<Figure size 720x720 with 4 Axes>"
      ]
     },
     "metadata": {
      "needs_background": "light"
     },
     "output_type": "display_data"
    }
   ],
   "source": [
    "threshold = 0.1\n",
    "filtre = np.abs(corr_matrix[\"HeartDiseaseorAttack\"]) > threshold\n",
    "corr_features = corr_matrix.columns[filtre].tolist()\n",
    "sns.clustermap(df[corr_features].corr(), annot = True, fmt = \".2f\")\n",
    "plt.title(\"Correlation Between Features w Corr Threshold 0.5\")"
   ]
  },
  {
   "cell_type": "code",
   "execution_count": 11,
   "id": "dd49e81d",
   "metadata": {},
   "outputs": [
    {
     "data": {
      "text/plain": [
       "['CholCheck',\n",
       " 'BMI',\n",
       " 'PhysActivity',\n",
       " 'Fruits',\n",
       " 'Veggies',\n",
       " 'HvyAlcoholConsump',\n",
       " 'AnyHealthcare',\n",
       " 'NoDocbcCost',\n",
       " 'MentHlth',\n",
       " 'Sex',\n",
       " 'Education']"
      ]
     },
     "execution_count": 11,
     "metadata": {},
     "output_type": "execute_result"
    }
   ],
   "source": [
    "#here, I collect all features that have a low correlation with the target variable.\n",
    "# threshold here is equal to 0.1\n",
    "filtre = np.abs(corr_matrix[\"HeartDiseaseorAttack\"]) < threshold\n",
    "low_corr_features = corr_matrix.columns[filtre].tolist()\n",
    "low_corr_features"
   ]
  },
  {
   "cell_type": "code",
   "execution_count": 12,
   "id": "6a15dd56",
   "metadata": {},
   "outputs": [
    {
     "data": {
      "text/html": [
       "<div>\n",
       "<style scoped>\n",
       "    .dataframe tbody tr th:only-of-type {\n",
       "        vertical-align: middle;\n",
       "    }\n",
       "\n",
       "    .dataframe tbody tr th {\n",
       "        vertical-align: top;\n",
       "    }\n",
       "\n",
       "    .dataframe thead th {\n",
       "        text-align: right;\n",
       "    }\n",
       "</style>\n",
       "<table border=\"1\" class=\"dataframe\">\n",
       "  <thead>\n",
       "    <tr style=\"text-align: right;\">\n",
       "      <th></th>\n",
       "      <th>HeartDiseaseorAttack</th>\n",
       "      <th>HighBP</th>\n",
       "      <th>HighChol</th>\n",
       "      <th>Smoker</th>\n",
       "      <th>Stroke</th>\n",
       "      <th>Diabetes</th>\n",
       "      <th>GenHlth</th>\n",
       "      <th>PhysHlth</th>\n",
       "      <th>DiffWalk</th>\n",
       "      <th>Age</th>\n",
       "      <th>Income</th>\n",
       "    </tr>\n",
       "  </thead>\n",
       "  <tbody>\n",
       "    <tr>\n",
       "      <th>0</th>\n",
       "      <td>0.0</td>\n",
       "      <td>1.0</td>\n",
       "      <td>1.0</td>\n",
       "      <td>1.0</td>\n",
       "      <td>0.0</td>\n",
       "      <td>0.0</td>\n",
       "      <td>5.0</td>\n",
       "      <td>15.0</td>\n",
       "      <td>1.0</td>\n",
       "      <td>9.0</td>\n",
       "      <td>3.0</td>\n",
       "    </tr>\n",
       "    <tr>\n",
       "      <th>1</th>\n",
       "      <td>0.0</td>\n",
       "      <td>0.0</td>\n",
       "      <td>0.0</td>\n",
       "      <td>1.0</td>\n",
       "      <td>0.0</td>\n",
       "      <td>0.0</td>\n",
       "      <td>3.0</td>\n",
       "      <td>0.0</td>\n",
       "      <td>0.0</td>\n",
       "      <td>7.0</td>\n",
       "      <td>1.0</td>\n",
       "    </tr>\n",
       "    <tr>\n",
       "      <th>2</th>\n",
       "      <td>0.0</td>\n",
       "      <td>1.0</td>\n",
       "      <td>1.0</td>\n",
       "      <td>0.0</td>\n",
       "      <td>0.0</td>\n",
       "      <td>0.0</td>\n",
       "      <td>5.0</td>\n",
       "      <td>30.0</td>\n",
       "      <td>1.0</td>\n",
       "      <td>9.0</td>\n",
       "      <td>8.0</td>\n",
       "    </tr>\n",
       "    <tr>\n",
       "      <th>3</th>\n",
       "      <td>0.0</td>\n",
       "      <td>1.0</td>\n",
       "      <td>0.0</td>\n",
       "      <td>0.0</td>\n",
       "      <td>0.0</td>\n",
       "      <td>0.0</td>\n",
       "      <td>2.0</td>\n",
       "      <td>0.0</td>\n",
       "      <td>0.0</td>\n",
       "      <td>11.0</td>\n",
       "      <td>6.0</td>\n",
       "    </tr>\n",
       "    <tr>\n",
       "      <th>4</th>\n",
       "      <td>0.0</td>\n",
       "      <td>1.0</td>\n",
       "      <td>1.0</td>\n",
       "      <td>0.0</td>\n",
       "      <td>0.0</td>\n",
       "      <td>0.0</td>\n",
       "      <td>2.0</td>\n",
       "      <td>0.0</td>\n",
       "      <td>0.0</td>\n",
       "      <td>11.0</td>\n",
       "      <td>4.0</td>\n",
       "    </tr>\n",
       "    <tr>\n",
       "      <th>...</th>\n",
       "      <td>...</td>\n",
       "      <td>...</td>\n",
       "      <td>...</td>\n",
       "      <td>...</td>\n",
       "      <td>...</td>\n",
       "      <td>...</td>\n",
       "      <td>...</td>\n",
       "      <td>...</td>\n",
       "      <td>...</td>\n",
       "      <td>...</td>\n",
       "      <td>...</td>\n",
       "    </tr>\n",
       "    <tr>\n",
       "      <th>253675</th>\n",
       "      <td>0.0</td>\n",
       "      <td>1.0</td>\n",
       "      <td>1.0</td>\n",
       "      <td>0.0</td>\n",
       "      <td>0.0</td>\n",
       "      <td>0.0</td>\n",
       "      <td>3.0</td>\n",
       "      <td>5.0</td>\n",
       "      <td>0.0</td>\n",
       "      <td>5.0</td>\n",
       "      <td>7.0</td>\n",
       "    </tr>\n",
       "    <tr>\n",
       "      <th>253676</th>\n",
       "      <td>0.0</td>\n",
       "      <td>1.0</td>\n",
       "      <td>1.0</td>\n",
       "      <td>0.0</td>\n",
       "      <td>0.0</td>\n",
       "      <td>2.0</td>\n",
       "      <td>4.0</td>\n",
       "      <td>0.0</td>\n",
       "      <td>1.0</td>\n",
       "      <td>11.0</td>\n",
       "      <td>4.0</td>\n",
       "    </tr>\n",
       "    <tr>\n",
       "      <th>253677</th>\n",
       "      <td>0.0</td>\n",
       "      <td>0.0</td>\n",
       "      <td>0.0</td>\n",
       "      <td>0.0</td>\n",
       "      <td>0.0</td>\n",
       "      <td>0.0</td>\n",
       "      <td>1.0</td>\n",
       "      <td>0.0</td>\n",
       "      <td>0.0</td>\n",
       "      <td>2.0</td>\n",
       "      <td>2.0</td>\n",
       "    </tr>\n",
       "    <tr>\n",
       "      <th>253678</th>\n",
       "      <td>0.0</td>\n",
       "      <td>1.0</td>\n",
       "      <td>0.0</td>\n",
       "      <td>0.0</td>\n",
       "      <td>0.0</td>\n",
       "      <td>0.0</td>\n",
       "      <td>3.0</td>\n",
       "      <td>0.0</td>\n",
       "      <td>0.0</td>\n",
       "      <td>7.0</td>\n",
       "      <td>1.0</td>\n",
       "    </tr>\n",
       "    <tr>\n",
       "      <th>253679</th>\n",
       "      <td>1.0</td>\n",
       "      <td>1.0</td>\n",
       "      <td>1.0</td>\n",
       "      <td>0.0</td>\n",
       "      <td>0.0</td>\n",
       "      <td>2.0</td>\n",
       "      <td>2.0</td>\n",
       "      <td>0.0</td>\n",
       "      <td>0.0</td>\n",
       "      <td>9.0</td>\n",
       "      <td>2.0</td>\n",
       "    </tr>\n",
       "  </tbody>\n",
       "</table>\n",
       "<p>253680 rows × 11 columns</p>\n",
       "</div>"
      ],
      "text/plain": [
       "        HeartDiseaseorAttack  HighBP  HighChol  Smoker  Stroke  Diabetes  \\\n",
       "0                        0.0     1.0       1.0     1.0     0.0       0.0   \n",
       "1                        0.0     0.0       0.0     1.0     0.0       0.0   \n",
       "2                        0.0     1.0       1.0     0.0     0.0       0.0   \n",
       "3                        0.0     1.0       0.0     0.0     0.0       0.0   \n",
       "4                        0.0     1.0       1.0     0.0     0.0       0.0   \n",
       "...                      ...     ...       ...     ...     ...       ...   \n",
       "253675                   0.0     1.0       1.0     0.0     0.0       0.0   \n",
       "253676                   0.0     1.0       1.0     0.0     0.0       2.0   \n",
       "253677                   0.0     0.0       0.0     0.0     0.0       0.0   \n",
       "253678                   0.0     1.0       0.0     0.0     0.0       0.0   \n",
       "253679                   1.0     1.0       1.0     0.0     0.0       2.0   \n",
       "\n",
       "        GenHlth  PhysHlth  DiffWalk   Age  Income  \n",
       "0           5.0      15.0       1.0   9.0     3.0  \n",
       "1           3.0       0.0       0.0   7.0     1.0  \n",
       "2           5.0      30.0       1.0   9.0     8.0  \n",
       "3           2.0       0.0       0.0  11.0     6.0  \n",
       "4           2.0       0.0       0.0  11.0     4.0  \n",
       "...         ...       ...       ...   ...     ...  \n",
       "253675      3.0       5.0       0.0   5.0     7.0  \n",
       "253676      4.0       0.0       1.0  11.0     4.0  \n",
       "253677      1.0       0.0       0.0   2.0     2.0  \n",
       "253678      3.0       0.0       0.0   7.0     1.0  \n",
       "253679      2.0       0.0       0.0   9.0     2.0  \n",
       "\n",
       "[253680 rows x 11 columns]"
      ]
     },
     "execution_count": 12,
     "metadata": {},
     "output_type": "execute_result"
    }
   ],
   "source": [
    "# let's drop these features\n",
    "df.drop(low_corr_features, axis=1, inplace=True)\n",
    "df"
   ]
  },
  {
   "cell_type": "code",
   "execution_count": 13,
   "id": "d1233d35",
   "metadata": {},
   "outputs": [
    {
     "data": {
      "text/plain": [
       "186779"
      ]
     },
     "execution_count": 13,
     "metadata": {},
     "output_type": "execute_result"
    }
   ],
   "source": [
    "#let's see the number of duplicate rows\n",
    "len(df)-len(df.drop_duplicates())"
   ]
  },
  {
   "cell_type": "code",
   "execution_count": 14,
   "id": "670e4264",
   "metadata": {},
   "outputs": [
    {
     "data": {
      "text/html": [
       "<div>\n",
       "<style scoped>\n",
       "    .dataframe tbody tr th:only-of-type {\n",
       "        vertical-align: middle;\n",
       "    }\n",
       "\n",
       "    .dataframe tbody tr th {\n",
       "        vertical-align: top;\n",
       "    }\n",
       "\n",
       "    .dataframe thead th {\n",
       "        text-align: right;\n",
       "    }\n",
       "</style>\n",
       "<table border=\"1\" class=\"dataframe\">\n",
       "  <thead>\n",
       "    <tr style=\"text-align: right;\">\n",
       "      <th></th>\n",
       "      <th>HeartDiseaseorAttack</th>\n",
       "      <th>HighBP</th>\n",
       "      <th>HighChol</th>\n",
       "      <th>Smoker</th>\n",
       "      <th>Stroke</th>\n",
       "      <th>Diabetes</th>\n",
       "      <th>GenHlth</th>\n",
       "      <th>PhysHlth</th>\n",
       "      <th>DiffWalk</th>\n",
       "      <th>Age</th>\n",
       "      <th>Income</th>\n",
       "      <th>size</th>\n",
       "    </tr>\n",
       "  </thead>\n",
       "  <tbody>\n",
       "    <tr>\n",
       "      <th>0</th>\n",
       "      <td>0.0</td>\n",
       "      <td>0.0</td>\n",
       "      <td>0.0</td>\n",
       "      <td>0.0</td>\n",
       "      <td>0.0</td>\n",
       "      <td>0.0</td>\n",
       "      <td>1.0</td>\n",
       "      <td>0.0</td>\n",
       "      <td>0.0</td>\n",
       "      <td>1.0</td>\n",
       "      <td>1.0</td>\n",
       "      <td>70</td>\n",
       "    </tr>\n",
       "    <tr>\n",
       "      <th>1</th>\n",
       "      <td>0.0</td>\n",
       "      <td>0.0</td>\n",
       "      <td>0.0</td>\n",
       "      <td>0.0</td>\n",
       "      <td>0.0</td>\n",
       "      <td>0.0</td>\n",
       "      <td>1.0</td>\n",
       "      <td>0.0</td>\n",
       "      <td>0.0</td>\n",
       "      <td>1.0</td>\n",
       "      <td>2.0</td>\n",
       "      <td>40</td>\n",
       "    </tr>\n",
       "    <tr>\n",
       "      <th>2</th>\n",
       "      <td>0.0</td>\n",
       "      <td>0.0</td>\n",
       "      <td>0.0</td>\n",
       "      <td>0.0</td>\n",
       "      <td>0.0</td>\n",
       "      <td>0.0</td>\n",
       "      <td>1.0</td>\n",
       "      <td>0.0</td>\n",
       "      <td>0.0</td>\n",
       "      <td>1.0</td>\n",
       "      <td>3.0</td>\n",
       "      <td>71</td>\n",
       "    </tr>\n",
       "    <tr>\n",
       "      <th>3</th>\n",
       "      <td>0.0</td>\n",
       "      <td>0.0</td>\n",
       "      <td>0.0</td>\n",
       "      <td>0.0</td>\n",
       "      <td>0.0</td>\n",
       "      <td>0.0</td>\n",
       "      <td>1.0</td>\n",
       "      <td>0.0</td>\n",
       "      <td>0.0</td>\n",
       "      <td>1.0</td>\n",
       "      <td>4.0</td>\n",
       "      <td>95</td>\n",
       "    </tr>\n",
       "    <tr>\n",
       "      <th>4</th>\n",
       "      <td>0.0</td>\n",
       "      <td>0.0</td>\n",
       "      <td>0.0</td>\n",
       "      <td>0.0</td>\n",
       "      <td>0.0</td>\n",
       "      <td>0.0</td>\n",
       "      <td>1.0</td>\n",
       "      <td>0.0</td>\n",
       "      <td>0.0</td>\n",
       "      <td>1.0</td>\n",
       "      <td>5.0</td>\n",
       "      <td>99</td>\n",
       "    </tr>\n",
       "    <tr>\n",
       "      <th>...</th>\n",
       "      <td>...</td>\n",
       "      <td>...</td>\n",
       "      <td>...</td>\n",
       "      <td>...</td>\n",
       "      <td>...</td>\n",
       "      <td>...</td>\n",
       "      <td>...</td>\n",
       "      <td>...</td>\n",
       "      <td>...</td>\n",
       "      <td>...</td>\n",
       "      <td>...</td>\n",
       "      <td>...</td>\n",
       "    </tr>\n",
       "    <tr>\n",
       "      <th>66896</th>\n",
       "      <td>1.0</td>\n",
       "      <td>1.0</td>\n",
       "      <td>1.0</td>\n",
       "      <td>1.0</td>\n",
       "      <td>1.0</td>\n",
       "      <td>2.0</td>\n",
       "      <td>5.0</td>\n",
       "      <td>30.0</td>\n",
       "      <td>1.0</td>\n",
       "      <td>13.0</td>\n",
       "      <td>4.0</td>\n",
       "      <td>3</td>\n",
       "    </tr>\n",
       "    <tr>\n",
       "      <th>66897</th>\n",
       "      <td>1.0</td>\n",
       "      <td>1.0</td>\n",
       "      <td>1.0</td>\n",
       "      <td>1.0</td>\n",
       "      <td>1.0</td>\n",
       "      <td>2.0</td>\n",
       "      <td>5.0</td>\n",
       "      <td>30.0</td>\n",
       "      <td>1.0</td>\n",
       "      <td>13.0</td>\n",
       "      <td>5.0</td>\n",
       "      <td>5</td>\n",
       "    </tr>\n",
       "    <tr>\n",
       "      <th>66898</th>\n",
       "      <td>1.0</td>\n",
       "      <td>1.0</td>\n",
       "      <td>1.0</td>\n",
       "      <td>1.0</td>\n",
       "      <td>1.0</td>\n",
       "      <td>2.0</td>\n",
       "      <td>5.0</td>\n",
       "      <td>30.0</td>\n",
       "      <td>1.0</td>\n",
       "      <td>13.0</td>\n",
       "      <td>6.0</td>\n",
       "      <td>3</td>\n",
       "    </tr>\n",
       "    <tr>\n",
       "      <th>66899</th>\n",
       "      <td>1.0</td>\n",
       "      <td>1.0</td>\n",
       "      <td>1.0</td>\n",
       "      <td>1.0</td>\n",
       "      <td>1.0</td>\n",
       "      <td>2.0</td>\n",
       "      <td>5.0</td>\n",
       "      <td>30.0</td>\n",
       "      <td>1.0</td>\n",
       "      <td>13.0</td>\n",
       "      <td>7.0</td>\n",
       "      <td>1</td>\n",
       "    </tr>\n",
       "    <tr>\n",
       "      <th>66900</th>\n",
       "      <td>1.0</td>\n",
       "      <td>1.0</td>\n",
       "      <td>1.0</td>\n",
       "      <td>1.0</td>\n",
       "      <td>1.0</td>\n",
       "      <td>2.0</td>\n",
       "      <td>5.0</td>\n",
       "      <td>30.0</td>\n",
       "      <td>1.0</td>\n",
       "      <td>13.0</td>\n",
       "      <td>8.0</td>\n",
       "      <td>1</td>\n",
       "    </tr>\n",
       "  </tbody>\n",
       "</table>\n",
       "<p>66901 rows × 12 columns</p>\n",
       "</div>"
      ],
      "text/plain": [
       "       HeartDiseaseorAttack  HighBP  HighChol  Smoker  Stroke  Diabetes  \\\n",
       "0                       0.0     0.0       0.0     0.0     0.0       0.0   \n",
       "1                       0.0     0.0       0.0     0.0     0.0       0.0   \n",
       "2                       0.0     0.0       0.0     0.0     0.0       0.0   \n",
       "3                       0.0     0.0       0.0     0.0     0.0       0.0   \n",
       "4                       0.0     0.0       0.0     0.0     0.0       0.0   \n",
       "...                     ...     ...       ...     ...     ...       ...   \n",
       "66896                   1.0     1.0       1.0     1.0     1.0       2.0   \n",
       "66897                   1.0     1.0       1.0     1.0     1.0       2.0   \n",
       "66898                   1.0     1.0       1.0     1.0     1.0       2.0   \n",
       "66899                   1.0     1.0       1.0     1.0     1.0       2.0   \n",
       "66900                   1.0     1.0       1.0     1.0     1.0       2.0   \n",
       "\n",
       "       GenHlth  PhysHlth  DiffWalk   Age  Income  size  \n",
       "0          1.0       0.0       0.0   1.0     1.0    70  \n",
       "1          1.0       0.0       0.0   1.0     2.0    40  \n",
       "2          1.0       0.0       0.0   1.0     3.0    71  \n",
       "3          1.0       0.0       0.0   1.0     4.0    95  \n",
       "4          1.0       0.0       0.0   1.0     5.0    99  \n",
       "...        ...       ...       ...   ...     ...   ...  \n",
       "66896      5.0      30.0       1.0  13.0     4.0     3  \n",
       "66897      5.0      30.0       1.0  13.0     5.0     5  \n",
       "66898      5.0      30.0       1.0  13.0     6.0     3  \n",
       "66899      5.0      30.0       1.0  13.0     7.0     1  \n",
       "66900      5.0      30.0       1.0  13.0     8.0     1  \n",
       "\n",
       "[66901 rows x 12 columns]"
      ]
     },
     "execution_count": 14,
     "metadata": {},
     "output_type": "execute_result"
    }
   ],
   "source": [
    "df.groupby(df.columns.tolist(),as_index=False).size()"
   ]
  },
  {
   "cell_type": "code",
   "execution_count": 15,
   "id": "e916e4aa",
   "metadata": {},
   "outputs": [
    {
     "data": {
      "text/plain": [
       "66901"
      ]
     },
     "execution_count": 15,
     "metadata": {},
     "output_type": "execute_result"
    }
   ],
   "source": [
    "#drop duplicates raws\n",
    "df.drop_duplicates(keep='first', inplace=True)\n",
    "len(df)"
   ]
  },
  {
   "cell_type": "code",
   "execution_count": 77,
   "id": "09d66230",
   "metadata": {},
   "outputs": [],
   "source": [
    "X = df.drop('HeartDiseaseorAttack',axis=1)\n",
    "y = df['HeartDiseaseorAttack']"
   ]
  },
  {
   "cell_type": "code",
   "execution_count": 13,
   "id": "07fc55ef",
   "metadata": {},
   "outputs": [],
   "source": [
    "from sklearn.model_selection import train_test_split\n",
    "from sklearn.preprocessing import StandardScaler"
   ]
  },
  {
   "cell_type": "code",
   "execution_count": 14,
   "id": "43a81bc4",
   "metadata": {},
   "outputs": [],
   "source": [
    "X_train, X_test, y_train, y_test = train_test_split(X, y, test_size=0.1, random_state=101)"
   ]
  },
  {
   "cell_type": "code",
   "execution_count": 79,
   "id": "67183ad3",
   "metadata": {},
   "outputs": [],
   "source": [
    "scaler = StandardScaler()"
   ]
  },
  {
   "cell_type": "code",
   "execution_count": 80,
   "id": "b3ea0a57",
   "metadata": {},
   "outputs": [],
   "source": [
    "scaled_X_train = scaler.fit_transform(X_train)\n",
    "scaled_X_test = scaler.transform(X_test)"
   ]
  },
  {
   "cell_type": "markdown",
   "id": "f7cfe77e",
   "metadata": {},
   "source": [
    "1.1.A) Logistic Regression Model\n",
    "-----"
   ]
  },
  {
   "cell_type": "code",
   "execution_count": 44,
   "id": "ad4115a1",
   "metadata": {},
   "outputs": [],
   "source": [
    "from sklearn.linear_model import LogisticRegression"
   ]
  },
  {
   "cell_type": "code",
   "execution_count": 299,
   "id": "f836f67f",
   "metadata": {},
   "outputs": [],
   "source": [
    "log_model = LogisticRegression()"
   ]
  },
  {
   "cell_type": "code",
   "execution_count": 300,
   "id": "37418088",
   "metadata": {},
   "outputs": [
    {
     "data": {
      "text/plain": [
       "LogisticRegression()"
      ]
     },
     "execution_count": 300,
     "metadata": {},
     "output_type": "execute_result"
    }
   ],
   "source": [
    "log_model.fit(scaled_X_train,y_train)"
   ]
  },
  {
   "cell_type": "code",
   "execution_count": 301,
   "id": "095a9d60",
   "metadata": {},
   "outputs": [
    {
     "data": {
      "text/plain": [
       "array([[ 0.21367366,  0.19593008,  0.16591741,  0.20058624,  0.06713468,\n",
       "         0.3441854 , -0.06589659,  0.03283831,  0.54192149,  0.02733831]])"
      ]
     },
     "execution_count": 301,
     "metadata": {},
     "output_type": "execute_result"
    }
   ],
   "source": [
    "log_model.coef_"
   ]
  },
  {
   "cell_type": "code",
   "execution_count": 302,
   "id": "30ab4366",
   "metadata": {},
   "outputs": [],
   "source": [
    "y_pred = log_model.predict(scaled_X_test)"
   ]
  },
  {
   "cell_type": "code",
   "execution_count": 303,
   "id": "10b6ea50",
   "metadata": {},
   "outputs": [
    {
     "data": {
      "text/plain": [
       "0.7782095351965327"
      ]
     },
     "execution_count": 303,
     "metadata": {},
     "output_type": "execute_result"
    }
   ],
   "source": [
    "accuracy_score(y_test,y_pred)"
   ]
  },
  {
   "cell_type": "code",
   "execution_count": 304,
   "id": "0bdd446a",
   "metadata": {},
   "outputs": [
    {
     "data": {
      "text/plain": [
       "array([[5068,  135],\n",
       "       [1349,  139]], dtype=int64)"
      ]
     },
     "execution_count": 304,
     "metadata": {},
     "output_type": "execute_result"
    }
   ],
   "source": [
    "confusion_matrix(y_test,y_pred)"
   ]
  },
  {
   "cell_type": "code",
   "execution_count": 306,
   "id": "90b8725e",
   "metadata": {},
   "outputs": [
    {
     "name": "stdout",
     "output_type": "stream",
     "text": [
      "              precision    recall  f1-score   support\n",
      "\n",
      "         0.0       0.79      0.97      0.87      5203\n",
      "         1.0       0.51      0.09      0.16      1488\n",
      "\n",
      "    accuracy                           0.78      6691\n",
      "   macro avg       0.65      0.53      0.52      6691\n",
      "weighted avg       0.73      0.78      0.71      6691\n",
      "\n"
     ]
    }
   ],
   "source": [
    "print(classification_report(y_test,y_pred))"
   ]
  },
  {
   "cell_type": "markdown",
   "id": "898e9377",
   "metadata": {},
   "source": [
    "1.1.B) KNN Model\n",
    "-----"
   ]
  },
  {
   "cell_type": "code",
   "execution_count": 115,
   "id": "624ae9f2",
   "metadata": {},
   "outputs": [],
   "source": [
    "from sklearn.neighbors import KNeighborsClassifier"
   ]
  },
  {
   "cell_type": "code",
   "execution_count": 308,
   "id": "b4abffda",
   "metadata": {},
   "outputs": [],
   "source": [
    "test_error_rates = []\n",
    "\n",
    "\n",
    "for k in range(1,21):\n",
    "    knn_model = KNeighborsClassifier(n_neighbors=k)\n",
    "    knn_model.fit(scaled_X_train,y_train) \n",
    "   \n",
    "    y_pred_test = knn_model.predict(scaled_X_test)\n",
    "    \n",
    "    test_error = 1 - accuracy_score(y_test,y_pred_test)\n",
    "    test_error_rates.append(test_error)"
   ]
  },
  {
   "cell_type": "code",
   "execution_count": 309,
   "id": "c5590516",
   "metadata": {},
   "outputs": [
    {
     "data": {
      "text/plain": [
       "[0.4038260349723509,\n",
       " 0.2594529965625467,\n",
       " 0.30548497982364375,\n",
       " 0.25138245404274395,\n",
       " 0.27634135405768945,\n",
       " 0.24346136601404877,\n",
       " 0.25646390674039754,\n",
       " 0.2383799133163952,\n",
       " 0.24630100134509036,\n",
       " 0.23554027798535349,\n",
       " 0.24435809296069344,\n",
       " 0.2338962785831714,\n",
       " 0.23733373187864293,\n",
       " 0.2297115528321626,\n",
       " 0.23583918696756834,\n",
       " 0.22776864444776568,\n",
       " 0.23374682409206393,\n",
       " 0.22597519055447612,\n",
       " 0.22986100732327008,\n",
       " 0.2268719175011209]"
      ]
     },
     "execution_count": 309,
     "metadata": {},
     "output_type": "execute_result"
    }
   ],
   "source": [
    "test_error_rates"
   ]
  },
  {
   "cell_type": "code",
   "execution_count": 310,
   "id": "bdf66d1f",
   "metadata": {},
   "outputs": [
    {
     "data": {
      "text/plain": [
       "Text(0.5, 0, 'K Value')"
      ]
     },
     "execution_count": 310,
     "metadata": {},
     "output_type": "execute_result"
    },
    {
     "data": {
      "image/png": "[encoded data removed]",
      "text/plain": [
       "<Figure size 2000x1200 with 1 Axes>"
      ]
     },
     "metadata": {
      "needs_background": "light"
     },
     "output_type": "display_data"
    }
   ],
   "source": [
    "plt.figure(figsize=(10,6),dpi=200)\n",
    "plt.plot(range(1,21),test_error_rates,label='Test Error')\n",
    "plt.legend()\n",
    "plt.ylabel('Error Rate')\n",
    "plt.xlabel(\"K Value\")"
   ]
  },
  {
   "cell_type": "markdown",
   "id": "ccc9c151",
   "metadata": {},
   "source": [
    "Best K = 18"
   ]
  },
  {
   "cell_type": "code",
   "execution_count": 311,
   "id": "12f08b95",
   "metadata": {},
   "outputs": [
    {
     "data": {
      "text/plain": [
       "KNeighborsClassifier(n_neighbors=18)"
      ]
     },
     "execution_count": 311,
     "metadata": {},
     "output_type": "execute_result"
    }
   ],
   "source": [
    "knn_model = KNeighborsClassifier(n_neighbors=18)\n",
    "knn_model.fit(scaled_X_train,y_train)"
   ]
  },
  {
   "cell_type": "code",
   "execution_count": 312,
   "id": "28e98782",
   "metadata": {},
   "outputs": [],
   "source": [
    "y_pred_test = knn_model.predict(scaled_X_test)"
   ]
  },
  {
   "cell_type": "code",
   "execution_count": 313,
   "id": "e32afc2c",
   "metadata": {},
   "outputs": [
    {
     "data": {
      "text/plain": [
       "0.7740248094455239"
      ]
     },
     "execution_count": 313,
     "metadata": {},
     "output_type": "execute_result"
    }
   ],
   "source": [
    "accuracy_score(y_test,y_pred_test)"
   ]
  },
  {
   "cell_type": "code",
   "execution_count": 314,
   "id": "41b1054a",
   "metadata": {},
   "outputs": [
    {
     "data": {
      "text/plain": [
       "array([[5048,  155],\n",
       "       [1357,  131]], dtype=int64)"
      ]
     },
     "execution_count": 314,
     "metadata": {},
     "output_type": "execute_result"
    }
   ],
   "source": [
    "confusion_matrix(y_test,y_pred_test)"
   ]
  },
  {
   "cell_type": "code",
   "execution_count": 315,
   "id": "cb3b5790",
   "metadata": {},
   "outputs": [
    {
     "name": "stdout",
     "output_type": "stream",
     "text": [
      "              precision    recall  f1-score   support\n",
      "\n",
      "         0.0       0.79      0.97      0.87      5203\n",
      "         1.0       0.46      0.09      0.15      1488\n",
      "\n",
      "    accuracy                           0.77      6691\n",
      "   macro avg       0.62      0.53      0.51      6691\n",
      "weighted avg       0.71      0.77      0.71      6691\n",
      "\n"
     ]
    }
   ],
   "source": [
    "print(classification_report(y_test,y_pred_test))"
   ]
  },
  {
   "cell_type": "markdown",
   "id": "adb60f11",
   "metadata": {},
   "source": [
    "1.1.C) SVM Model\n",
    "-----"
   ]
  },
  {
   "cell_type": "code",
   "execution_count": 21,
   "id": "74c31386",
   "metadata": {},
   "outputs": [],
   "source": [
    "from sklearn import svm # Supprt Vector Classifier\n",
    "from sklearn.svm import SVC # Supprt Vector Classifier\n",
    "from sklearn.model_selection import GridSearchCV"
   ]
  },
  {
   "cell_type": "markdown",
   "id": "809e1b5b",
   "metadata": {},
   "source": [
    "Linear Kernel"
   ]
  },
  {
   "cell_type": "code",
   "execution_count": 316,
   "id": "4b70e430",
   "metadata": {},
   "outputs": [],
   "source": [
    "param_grid = {'C':[0.5,1],\n",
    "             'kernel':['linear'],\n",
    "              'gamma':['scale','auto']}"
   ]
  },
  {
   "cell_type": "code",
   "execution_count": 24,
   "id": "017dad1e",
   "metadata": {},
   "outputs": [],
   "source": [
    "svc = SVC()\n",
    "grid = GridSearchCV(svc,param_grid=param_grid)"
   ]
  },
  {
   "cell_type": "code",
   "execution_count": 318,
   "id": "b9b4cfa1",
   "metadata": {},
   "outputs": [
    {
     "data": {
      "text/plain": [
       "GridSearchCV(estimator=SVC(),\n",
       "             param_grid={'C': [0.5, 1], 'gamma': ['scale', 'auto'],\n",
       "                         'kernel': ['linear']})"
      ]
     },
     "execution_count": 318,
     "metadata": {},
     "output_type": "execute_result"
    }
   ],
   "source": [
    "grid.fit(scaled_X_train,y_train)"
   ]
  },
  {
   "cell_type": "code",
   "execution_count": 319,
   "id": "1ed210e5",
   "metadata": {},
   "outputs": [
    {
     "data": {
      "text/plain": [
       "{'C': 0.5, 'gamma': 'scale', 'kernel': 'linear'}"
      ]
     },
     "execution_count": 319,
     "metadata": {},
     "output_type": "execute_result"
    }
   ],
   "source": [
    "grid.best_params_"
   ]
  },
  {
   "cell_type": "code",
   "execution_count": 320,
   "id": "ad34a3c3",
   "metadata": {},
   "outputs": [],
   "source": [
    "grid_preds = grid.predict(scaled_X_test)"
   ]
  },
  {
   "cell_type": "code",
   "execution_count": 321,
   "id": "6ecd838b",
   "metadata": {},
   "outputs": [
    {
     "data": {
      "text/plain": [
       "0.7776117172321029"
      ]
     },
     "execution_count": 321,
     "metadata": {},
     "output_type": "execute_result"
    }
   ],
   "source": [
    "accuracy_score(y_test,grid_preds)"
   ]
  },
  {
   "cell_type": "markdown",
   "id": "f3b4dff6",
   "metadata": {},
   "source": [
    "rbf Kernel"
   ]
  },
  {
   "cell_type": "code",
   "execution_count": 323,
   "id": "651bb838",
   "metadata": {},
   "outputs": [],
   "source": [
    "param_grid = {'C':[0.5,1],\n",
    "             'kernel':['rbf'],\n",
    "              'gamma':['scale','auto']}"
   ]
  },
  {
   "cell_type": "code",
   "execution_count": 324,
   "id": "86973447",
   "metadata": {},
   "outputs": [],
   "source": [
    "grid = GridSearchCV(svc,param_grid=param_grid)"
   ]
  },
  {
   "cell_type": "code",
   "execution_count": 325,
   "id": "56f1ce07",
   "metadata": {},
   "outputs": [
    {
     "data": {
      "text/plain": [
       "GridSearchCV(estimator=SVC(),\n",
       "             param_grid={'C': [0.5, 1], 'gamma': ['scale', 'auto'],\n",
       "                         'kernel': ['rbf']})"
      ]
     },
     "execution_count": 325,
     "metadata": {},
     "output_type": "execute_result"
    }
   ],
   "source": [
    "grid.fit(scaled_X_train,y_train)"
   ]
  },
  {
   "cell_type": "code",
   "execution_count": 326,
   "id": "67b50957",
   "metadata": {},
   "outputs": [
    {
     "data": {
      "text/plain": [
       "{'C': 1, 'gamma': 'scale', 'kernel': 'rbf'}"
      ]
     },
     "execution_count": 326,
     "metadata": {},
     "output_type": "execute_result"
    }
   ],
   "source": [
    "grid.best_params_"
   ]
  },
  {
   "cell_type": "code",
   "execution_count": 327,
   "id": "6e480e92",
   "metadata": {},
   "outputs": [],
   "source": [
    "grid_preds = grid.predict(scaled_X_test)"
   ]
  },
  {
   "cell_type": "code",
   "execution_count": 328,
   "id": "c4f1f01b",
   "metadata": {},
   "outputs": [
    {
     "data": {
      "text/plain": [
       "0.7791062621431774"
      ]
     },
     "execution_count": 328,
     "metadata": {},
     "output_type": "execute_result"
    }
   ],
   "source": [
    "accuracy_score(y_test,grid_preds)"
   ]
  },
  {
   "cell_type": "markdown",
   "id": "ecb9b70b",
   "metadata": {},
   "source": [
    "sigmoid Kernel"
   ]
  },
  {
   "cell_type": "code",
   "execution_count": 25,
   "id": "670be4f8",
   "metadata": {},
   "outputs": [],
   "source": [
    "param_grid = {'C':[0.5,1],\n",
    "             'kernel':['sigmoid'],\n",
    "              'gamma':['scale','auto']}"
   ]
  },
  {
   "cell_type": "code",
   "execution_count": 26,
   "id": "f0e5793c",
   "metadata": {},
   "outputs": [],
   "source": [
    "grid = GridSearchCV(svc,param_grid=param_grid)"
   ]
  },
  {
   "cell_type": "code",
   "execution_count": 27,
   "id": "268fd270",
   "metadata": {},
   "outputs": [
    {
     "data": {
      "text/plain": [
       "GridSearchCV(estimator=SVC(),\n",
       "             param_grid={'C': [0.5, 1], 'gamma': ['scale', 'auto'],\n",
       "                         'kernel': ['sigmoid']})"
      ]
     },
     "execution_count": 27,
     "metadata": {},
     "output_type": "execute_result"
    }
   ],
   "source": [
    "grid.fit(scaled_X_train,y_train)"
   ]
  },
  {
   "cell_type": "code",
   "execution_count": 28,
   "id": "827e2a8e",
   "metadata": {},
   "outputs": [
    {
     "data": {
      "text/plain": [
       "{'C': 1, 'gamma': 'scale', 'kernel': 'sigmoid'}"
      ]
     },
     "execution_count": 28,
     "metadata": {},
     "output_type": "execute_result"
    }
   ],
   "source": [
    "grid.best_params_"
   ]
  },
  {
   "cell_type": "code",
   "execution_count": 29,
   "id": "d2726119",
   "metadata": {},
   "outputs": [],
   "source": [
    "grid_preds = grid.predict(scaled_X_test)"
   ]
  },
  {
   "cell_type": "code",
   "execution_count": 30,
   "id": "827c07a5",
   "metadata": {},
   "outputs": [
    {
     "data": {
      "text/plain": [
       "0.7030339261694813"
      ]
     },
     "execution_count": 30,
     "metadata": {},
     "output_type": "execute_result"
    }
   ],
   "source": [
    "accuracy_score(y_test,grid_preds)"
   ]
  },
  {
   "cell_type": "markdown",
   "id": "e6236cab",
   "metadata": {},
   "source": [
    "As you see that the first appraoch, which is dropping some features, does not give us high accuracy, the highest accuracy\n",
    "over all the different models was 77%, which is too low as expected.\n",
    "\n",
    "So, now let's see if the performance will change if we keep all columns or not "
   ]
  },
  {
   "cell_type": "markdown",
   "id": "de94d7d2",
   "metadata": {},
   "source": [
    "2.2) Keep all features\n",
    "-----"
   ]
  },
  {
   "cell_type": "code",
   "execution_count": 100,
   "id": "9905c579",
   "metadata": {},
   "outputs": [
    {
     "data": {
      "text/plain": [
       "253680"
      ]
     },
     "execution_count": 100,
     "metadata": {},
     "output_type": "execute_result"
    }
   ],
   "source": [
    "#let's read the data again\n",
    "df = pd.read_csv('HeartDiseases.csv')\n",
    "len(df)"
   ]
  },
  {
   "cell_type": "markdown",
   "id": "c86e1861",
   "metadata": {},
   "source": [
    "let's remove duplicate rows, if exist."
   ]
  },
  {
   "cell_type": "code",
   "execution_count": 101,
   "id": "7f4771f9",
   "metadata": {},
   "outputs": [
    {
     "data": {
      "text/plain": [
       "23899"
      ]
     },
     "execution_count": 101,
     "metadata": {},
     "output_type": "execute_result"
    }
   ],
   "source": [
    "len(df)-len(df.drop_duplicates())"
   ]
  },
  {
   "cell_type": "markdown",
   "id": "23af410d",
   "metadata": {},
   "source": [
    "we have 23899 duplicate samples, so we will drop them"
   ]
  },
  {
   "cell_type": "code",
   "execution_count": 102,
   "id": "f1a80813",
   "metadata": {},
   "outputs": [
    {
     "data": {
      "text/plain": [
       "229781"
      ]
     },
     "execution_count": 102,
     "metadata": {},
     "output_type": "execute_result"
    }
   ],
   "source": [
    "df.drop_duplicates(keep='first', inplace=True)\n",
    "len(df)"
   ]
  },
  {
   "cell_type": "code",
   "execution_count": 103,
   "id": "46cf4b61",
   "metadata": {},
   "outputs": [],
   "source": [
    "X = df.drop('HeartDiseaseorAttack',axis=1)\n",
    "y = df['HeartDiseaseorAttack']"
   ]
  },
  {
   "cell_type": "code",
   "execution_count": 104,
   "id": "6775456a",
   "metadata": {},
   "outputs": [],
   "source": [
    "X_train, X_test, y_train, y_test = train_test_split(X, y, test_size=0.1, random_state=101)"
   ]
  },
  {
   "cell_type": "code",
   "execution_count": 113,
   "id": "c31c0586",
   "metadata": {},
   "outputs": [],
   "source": [
    "scaler = StandardScaler()\n",
    "scaled_X_train = scaler.fit_transform(X_train)\n",
    "scaled_X_test = scaler.transform(X_test)"
   ]
  },
  {
   "cell_type": "markdown",
   "id": "072460be",
   "metadata": {},
   "source": [
    "1.2.A) Logistic Regression Model\n",
    "------"
   ]
  },
  {
   "cell_type": "code",
   "execution_count": 106,
   "id": "d954a9a6",
   "metadata": {},
   "outputs": [],
   "source": [
    "log_model = LogisticRegression()"
   ]
  },
  {
   "cell_type": "code",
   "execution_count": 107,
   "id": "36d8ff77",
   "metadata": {},
   "outputs": [],
   "source": [
    "log_model = log_model.fit(scaled_X_train,y_train)"
   ]
  },
  {
   "cell_type": "code",
   "execution_count": 108,
   "id": "9ac53ea4",
   "metadata": {},
   "outputs": [
    {
     "data": {
      "text/plain": [
       "array([[ 2.51556673e-01,  3.01454075e-01,  1.12258030e-01,\n",
       "        -2.35989960e-03,  1.70948894e-01,  2.00426343e-01,\n",
       "         1.00950158e-01,  2.16117978e-02,  1.39796288e-02,\n",
       "         2.46570467e-02, -8.46645775e-02, -4.23654890e-04,\n",
       "         7.24751452e-02,  4.96634456e-01,  2.00442244e-02,\n",
       "         6.55296307e-03,  1.19324507e-01,  3.80147188e-01,\n",
       "         7.73450493e-01,  1.95037890e-02, -7.55957466e-02]])"
      ]
     },
     "execution_count": 108,
     "metadata": {},
     "output_type": "execute_result"
    }
   ],
   "source": [
    "log_model.coef_"
   ]
  },
  {
   "cell_type": "code",
   "execution_count": 109,
   "id": "8dcf09b1",
   "metadata": {},
   "outputs": [],
   "source": [
    "y_pred = log_model.predict(scaled_X_test)"
   ]
  },
  {
   "cell_type": "code",
   "execution_count": 110,
   "id": "74a8792c",
   "metadata": {},
   "outputs": [
    {
     "data": {
      "text/plain": [
       "0.8958179207102137"
      ]
     },
     "execution_count": 110,
     "metadata": {},
     "output_type": "execute_result"
    }
   ],
   "source": [
    "accuracy_score(y_pred,y_test)"
   ]
  },
  {
   "cell_type": "code",
   "execution_count": 111,
   "id": "666ebbd9",
   "metadata": {},
   "outputs": [
    {
     "data": {
      "text/plain": [
       "array([[20299,   237],\n",
       "       [ 2157,   286]], dtype=int64)"
      ]
     },
     "execution_count": 111,
     "metadata": {},
     "output_type": "execute_result"
    }
   ],
   "source": [
    "confusion_matrix(y_test,y_pred)"
   ]
  },
  {
   "cell_type": "code",
   "execution_count": 112,
   "id": "b6bf9ce4",
   "metadata": {},
   "outputs": [
    {
     "name": "stdout",
     "output_type": "stream",
     "text": [
      "              precision    recall  f1-score   support\n",
      "\n",
      "         0.0       0.90      0.99      0.94     20536\n",
      "         1.0       0.55      0.12      0.19      2443\n",
      "\n",
      "    accuracy                           0.90     22979\n",
      "   macro avg       0.73      0.55      0.57     22979\n",
      "weighted avg       0.87      0.90      0.86     22979\n",
      "\n"
     ]
    }
   ],
   "source": [
    "print(classification_report(y_test,y_pred))"
   ]
  },
  {
   "cell_type": "markdown",
   "id": "bdac876d",
   "metadata": {},
   "source": [
    "As we can see, the accuracy without removing any feature is 89.5% which is much better than 77.8% after removing features"
   ]
  },
  {
   "cell_type": "markdown",
   "id": "0ff21055",
   "metadata": {},
   "source": [
    "1.2.B) KNN Model\n",
    "-----"
   ]
  },
  {
   "cell_type": "code",
   "execution_count": 116,
   "id": "209f050b",
   "metadata": {},
   "outputs": [],
   "source": [
    "test_error_rates = []\n",
    "\n",
    "\n",
    "for k in range(1,21):\n",
    "    knn_model = KNeighborsClassifier(n_neighbors=k)\n",
    "    knn_model.fit(scaled_X_train,y_train) \n",
    "   \n",
    "    y_pred_test = knn_model.predict(scaled_X_test)\n",
    "    \n",
    "    test_error = 1 - accuracy_score(y_test,y_pred_test)\n",
    "    test_error_rates.append(test_error)"
   ]
  },
  {
   "cell_type": "code",
   "execution_count": 117,
   "id": "c29badda",
   "metadata": {},
   "outputs": [
    {
     "data": {
      "text/plain": [
       "[0.15727403281256802,\n",
       " 0.11249401627572997,\n",
       " 0.12494016275730013,\n",
       " 0.11018756255711737,\n",
       " 0.11767265764393575,\n",
       " 0.10923016667391972,\n",
       " 0.11301623221201962,\n",
       " 0.1073153749075243,\n",
       " 0.11010052656773572,\n",
       " 0.10748944688628748,\n",
       " 0.10822925279603113,\n",
       " 0.106706122981853,\n",
       " 0.106488533008399,\n",
       " 0.10535706514643806,\n",
       " 0.10618390704556335,\n",
       " 0.10487836720483923,\n",
       " 0.10605335306149088,\n",
       " 0.10500892118891159,\n",
       " 0.10548761913051041,\n",
       " 0.10466077723138523]"
      ]
     },
     "execution_count": 117,
     "metadata": {},
     "output_type": "execute_result"
    }
   ],
   "source": [
    "test_error_rates"
   ]
  },
  {
   "cell_type": "code",
   "execution_count": 118,
   "id": "6edd00da",
   "metadata": {},
   "outputs": [
    {
     "data": {
      "text/plain": [
       "Text(0.5, 0, 'K Value')"
      ]
     },
     "execution_count": 118,
     "metadata": {},
     "output_type": "execute_result"
    },
    {
     "data": {
      "image/png": "[encoded data removed]",
      "text/plain": [
       "<Figure size 2000x1200 with 1 Axes>"
      ]
     },
     "metadata": {
      "needs_background": "light"
     },
     "output_type": "display_data"
    }
   ],
   "source": [
    "plt.figure(figsize=(10,6),dpi=200)\n",
    "plt.plot(range(1,21),test_error_rates,label='Test Error')\n",
    "plt.legend()\n",
    "plt.ylabel('Error Rate')\n",
    "plt.xlabel(\"K Value\")"
   ]
  },
  {
   "cell_type": "markdown",
   "id": "de7ef9f9",
   "metadata": {},
   "source": [
    "As we can see, all values greater than 15 has a bit similar error rate\n",
    "let's pick k = 20 to be the best K value"
   ]
  },
  {
   "cell_type": "code",
   "execution_count": 122,
   "id": "f4d237b7",
   "metadata": {},
   "outputs": [],
   "source": [
    "knn_model = KNeighborsClassifier(n_neighbors=20)\n",
    "knn_model = knn_model.fit(scaled_X_train,y_train)"
   ]
  },
  {
   "cell_type": "code",
   "execution_count": 123,
   "id": "978941f5",
   "metadata": {},
   "outputs": [],
   "source": [
    "y_pred_test = knn_model.predict(scaled_X_test)"
   ]
  },
  {
   "cell_type": "code",
   "execution_count": 127,
   "id": "1f1798df",
   "metadata": {},
   "outputs": [
    {
     "data": {
      "text/plain": [
       "0.8953392227686148"
      ]
     },
     "execution_count": 127,
     "metadata": {},
     "output_type": "execute_result"
    }
   ],
   "source": [
    "accuracy_score(y_test,y_pred_test)"
   ]
  },
  {
   "cell_type": "code",
   "execution_count": 128,
   "id": "291b1f69",
   "metadata": {},
   "outputs": [
    {
     "data": {
      "text/plain": [
       "array([[20370,   166],\n",
       "       [ 2239,   204]], dtype=int64)"
      ]
     },
     "execution_count": 128,
     "metadata": {},
     "output_type": "execute_result"
    }
   ],
   "source": [
    "confusion_matrix(y_test,y_pred_test)"
   ]
  },
  {
   "cell_type": "code",
   "execution_count": 129,
   "id": "7415b28f",
   "metadata": {},
   "outputs": [
    {
     "name": "stdout",
     "output_type": "stream",
     "text": [
      "              precision    recall  f1-score   support\n",
      "\n",
      "         0.0       0.90      0.99      0.94     20536\n",
      "         1.0       0.55      0.12      0.19      2443\n",
      "\n",
      "    accuracy                           0.90     22979\n",
      "   macro avg       0.73      0.55      0.57     22979\n",
      "weighted avg       0.87      0.90      0.86     22979\n",
      "\n"
     ]
    }
   ],
   "source": [
    "print(classification_report(y_test,y_pred))"
   ]
  },
  {
   "cell_type": "markdown",
   "id": "c8838aaf",
   "metadata": {},
   "source": [
    "1.2.C) SVM Model\n",
    "-----"
   ]
  },
  {
   "cell_type": "code",
   "execution_count": 131,
   "id": "6629c596",
   "metadata": {},
   "outputs": [],
   "source": [
    "from sklearn import svm # Supprt Vector Classifier\n",
    "from sklearn.svm import SVC # Supprt Vector Classifier\n",
    "from sklearn.model_selection import GridSearchCV"
   ]
  },
  {
   "cell_type": "markdown",
   "id": "2cbf9528",
   "metadata": {},
   "source": [
    "Linear Kernel"
   ]
  },
  {
   "cell_type": "code",
   "execution_count": 134,
   "id": "8f27f297",
   "metadata": {},
   "outputs": [],
   "source": [
    "param_grid = {'C':[1],\n",
    "             'kernel':['linear'],\n",
    "              'gamma':['scale','auto']}"
   ]
  },
  {
   "cell_type": "code",
   "execution_count": 135,
   "id": "e2e8f1a1",
   "metadata": {},
   "outputs": [],
   "source": [
    "svc = SVC()\n",
    "grid = GridSearchCV(svc,param_grid=param_grid)"
   ]
  },
  {
   "cell_type": "code",
   "execution_count": 136,
   "id": "bfbde98f",
   "metadata": {},
   "outputs": [],
   "source": [
    "grid = grid.fit(scaled_X_train,y_train)"
   ]
  },
  {
   "cell_type": "code",
   "execution_count": 137,
   "id": "46dfcd68",
   "metadata": {},
   "outputs": [
    {
     "data": {
      "text/plain": [
       "{'C': 1, 'gamma': 'scale', 'kernel': 'linear'}"
      ]
     },
     "execution_count": 137,
     "metadata": {},
     "output_type": "execute_result"
    }
   ],
   "source": [
    "grid.best_params_"
   ]
  },
  {
   "cell_type": "code",
   "execution_count": 138,
   "id": "005a9996",
   "metadata": {},
   "outputs": [],
   "source": [
    "grid_preds = grid.predict(scaled_X_test)"
   ]
  },
  {
   "cell_type": "code",
   "execution_count": 139,
   "id": "e90c9abb",
   "metadata": {},
   "outputs": [
    {
     "data": {
      "text/plain": [
       "0.8936855389703643"
      ]
     },
     "execution_count": 139,
     "metadata": {},
     "output_type": "execute_result"
    }
   ],
   "source": [
    "accuracy_score(y_test,grid_preds)"
   ]
  },
  {
   "cell_type": "code",
   "execution_count": 142,
   "id": "191df010",
   "metadata": {},
   "outputs": [
    {
     "data": {
      "text/plain": [
       "array([[20536,     0],\n",
       "       [ 2443,     0]], dtype=int64)"
      ]
     },
     "execution_count": 142,
     "metadata": {},
     "output_type": "execute_result"
    }
   ],
   "source": [
    "confusion_matrix(y_test,grid_preds)"
   ]
  },
  {
   "cell_type": "markdown",
   "id": "4cd7612a",
   "metadata": {},
   "source": [
    "Classification report for linear svm as it has the highest accuracy compared to rbf and segmoid as shown in the below cells "
   ]
  },
  {
   "cell_type": "code",
   "execution_count": 143,
   "id": "2797f420",
   "metadata": {},
   "outputs": [
    {
     "name": "stdout",
     "output_type": "stream",
     "text": [
      "              precision    recall  f1-score   support\n",
      "\n",
      "         0.0       0.89      1.00      0.94     20536\n",
      "         1.0       0.00      0.00      0.00      2443\n",
      "\n",
      "    accuracy                           0.89     22979\n",
      "   macro avg       0.45      0.50      0.47     22979\n",
      "weighted avg       0.80      0.89      0.84     22979\n",
      "\n"
     ]
    },
    {
     "name": "stderr",
     "output_type": "stream",
     "text": [
      "C:\\ProgramData\\Anaconda3\\lib\\site-packages\\sklearn\\metrics\\_classification.py:1248: UndefinedMetricWarning: Precision and F-score are ill-defined and being set to 0.0 in labels with no predicted samples. Use `zero_division` parameter to control this behavior.\n",
      "  _warn_prf(average, modifier, msg_start, len(result))\n",
      "C:\\ProgramData\\Anaconda3\\lib\\site-packages\\sklearn\\metrics\\_classification.py:1248: UndefinedMetricWarning: Precision and F-score are ill-defined and being set to 0.0 in labels with no predicted samples. Use `zero_division` parameter to control this behavior.\n",
      "  _warn_prf(average, modifier, msg_start, len(result))\n",
      "C:\\ProgramData\\Anaconda3\\lib\\site-packages\\sklearn\\metrics\\_classification.py:1248: UndefinedMetricWarning: Precision and F-score are ill-defined and being set to 0.0 in labels with no predicted samples. Use `zero_division` parameter to control this behavior.\n",
      "  _warn_prf(average, modifier, msg_start, len(result))\n"
     ]
    }
   ],
   "source": [
    "print(classification_report(y_test,grid_preds))"
   ]
  },
  {
   "cell_type": "markdown",
   "id": "efdab35c",
   "metadata": {},
   "source": [
    "The above warning is not an error, it just because not all lebels are included in grid_preds"
   ]
  },
  {
   "cell_type": "markdown",
   "id": "629d8ce3",
   "metadata": {},
   "source": [
    "rbf Kernel"
   ]
  },
  {
   "cell_type": "code",
   "execution_count": 182,
   "id": "e17f8794",
   "metadata": {},
   "outputs": [],
   "source": [
    "param_grid = {'C':[0.5,1],\n",
    "             'kernel':['rbf'],\n",
    "              'gamma':['scale','auto']}"
   ]
  },
  {
   "cell_type": "code",
   "execution_count": 183,
   "id": "d6cd6a62",
   "metadata": {},
   "outputs": [],
   "source": [
    "svc = SVC()\n",
    "grid = GridSearchCV(svc,param_grid=param_grid)"
   ]
  },
  {
   "cell_type": "code",
   "execution_count": 184,
   "id": "07206aa4",
   "metadata": {},
   "outputs": [],
   "source": [
    "grid = grid.fit(scaled_X_train,y_train)"
   ]
  },
  {
   "cell_type": "code",
   "execution_count": 185,
   "id": "697b58cd",
   "metadata": {},
   "outputs": [],
   "source": [
    "grid_preds = grid.predict(scaled_X_test)"
   ]
  },
  {
   "cell_type": "code",
   "execution_count": 192,
   "id": "571ee805",
   "metadata": {},
   "outputs": [
    {
     "data": {
      "text/plain": [
       "0.8633333333333334"
      ]
     },
     "execution_count": 192,
     "metadata": {},
     "output_type": "execute_result"
    }
   ],
   "source": [
    "accuracy_score(y_test,grid_preds)"
   ]
  },
  {
   "cell_type": "markdown",
   "id": "fa9fde13",
   "metadata": {},
   "source": [
    "segmoid Kernel"
   ]
  },
  {
   "cell_type": "code",
   "execution_count": 193,
   "id": "eb7f494d",
   "metadata": {},
   "outputs": [],
   "source": [
    "param_grid = {'C':[0.5,1],\n",
    "             'kernel':['sigmoid'],\n",
    "              'gamma':['scale','auto']}"
   ]
  },
  {
   "cell_type": "code",
   "execution_count": 194,
   "id": "759a1c79",
   "metadata": {},
   "outputs": [],
   "source": [
    "grid = GridSearchCV(svc,param_grid=param_grid)"
   ]
  },
  {
   "cell_type": "code",
   "execution_count": 195,
   "id": "d4ea3df0",
   "metadata": {},
   "outputs": [],
   "source": [
    "grid = grid.fit(scaled_X_train,y_train)"
   ]
  },
  {
   "cell_type": "code",
   "execution_count": 196,
   "id": "c485a96e",
   "metadata": {},
   "outputs": [],
   "source": [
    "grid_preds = grid.predict(scaled_X_test)"
   ]
  },
  {
   "cell_type": "code",
   "execution_count": 202,
   "id": "24014069",
   "metadata": {},
   "outputs": [
    {
     "data": {
      "text/plain": [
       "0.8366666666666667"
      ]
     },
     "execution_count": 202,
     "metadata": {},
     "output_type": "execute_result"
    }
   ],
   "source": [
    "accuracy_score(y_test,grid_preds)"
   ]
  },
  {
   "cell_type": "markdown",
   "id": "c623db91",
   "metadata": {},
   "source": [
    "Linear vs rbf vs Sigmoid\n",
    "* Linear has accuracy equals 89.3%\n",
    "* rbf has accuracy equals 86.3%\n",
    "* sigmoid has accuracy equals 83.6%\n",
    "\n",
    "so we choose the linear kernel as it has the highest accuracy. \n",
    "Also we can notice that the accuracy for svm increases to be 89.3 for the linear kernel, which is much greater than 77% for the first approach"
   ]
  },
  {
   "cell_type": "markdown",
   "id": "4c03566f",
   "metadata": {},
   "source": [
    "1.D) Comments\n",
    "---"
   ]
  },
  {
   "cell_type": "markdown",
   "id": "c5e72a0c",
   "metadata": {},
   "source": [
    "Let's recap on the performance in terms of accuracy score of each model for the sceond approach : \n",
    "* Logistic Regression gives accuracy equals 89.6%\n",
    "* KNN gives accuracy equals 89.5%\n",
    "* SVM gives accuracy equals 89.3%\n",
    "\n",
    "So, we choose the Logistic Regression model to be the best out of them, as it has the highest accuracy"
   ]
  },
  {
   "cell_type": "markdown",
   "id": "b6856a1c",
   "metadata": {},
   "source": [
    "Also we can notice that the accuracy for any model in the second approach (keep the features) is much higher than\n",
    "the accuracy in the first approach (drop some features), which indicates that the features we dropped in the first approach\n",
    "are important for our target variable."
   ]
  },
  {
   "cell_type": "markdown",
   "id": "09db4ac6",
   "metadata": {},
   "source": [
    "###########################################################################################################################"
   ]
  },
  {
   "cell_type": "markdown",
   "id": "14f6f795",
   "metadata": {},
   "source": [
    "2- Income DataSet\n",
    "-----"
   ]
  },
  {
   "cell_type": "code",
   "execution_count": 266,
   "id": "a868281d",
   "metadata": {},
   "outputs": [],
   "source": [
    "df = pd.read_csv('train.csv')"
   ]
  },
  {
   "cell_type": "code",
   "execution_count": 267,
   "id": "1a7dec81",
   "metadata": {},
   "outputs": [
    {
     "data": {
      "text/html": [
       "<div>\n",
       "<style scoped>\n",
       "    .dataframe tbody tr th:only-of-type {\n",
       "        vertical-align: middle;\n",
       "    }\n",
       "\n",
       "    .dataframe tbody tr th {\n",
       "        vertical-align: top;\n",
       "    }\n",
       "\n",
       "    .dataframe thead th {\n",
       "        text-align: right;\n",
       "    }\n",
       "</style>\n",
       "<table border=\"1\" class=\"dataframe\">\n",
       "  <thead>\n",
       "    <tr style=\"text-align: right;\">\n",
       "      <th></th>\n",
       "      <th>age</th>\n",
       "      <th>workclass</th>\n",
       "      <th>fnlwgt</th>\n",
       "      <th>education</th>\n",
       "      <th>educational-num</th>\n",
       "      <th>marital-status</th>\n",
       "      <th>occupation</th>\n",
       "      <th>relationship</th>\n",
       "      <th>race</th>\n",
       "      <th>gender</th>\n",
       "      <th>capital-gain</th>\n",
       "      <th>capital-loss</th>\n",
       "      <th>hours-per-week</th>\n",
       "      <th>native-country</th>\n",
       "      <th>income_&gt;50K</th>\n",
       "    </tr>\n",
       "  </thead>\n",
       "  <tbody>\n",
       "    <tr>\n",
       "      <th>0</th>\n",
       "      <td>67</td>\n",
       "      <td>Private</td>\n",
       "      <td>366425</td>\n",
       "      <td>Doctorate</td>\n",
       "      <td>16</td>\n",
       "      <td>Divorced</td>\n",
       "      <td>Exec-managerial</td>\n",
       "      <td>Not-in-family</td>\n",
       "      <td>White</td>\n",
       "      <td>Male</td>\n",
       "      <td>99999</td>\n",
       "      <td>0</td>\n",
       "      <td>60</td>\n",
       "      <td>United-States</td>\n",
       "      <td>1</td>\n",
       "    </tr>\n",
       "    <tr>\n",
       "      <th>1</th>\n",
       "      <td>17</td>\n",
       "      <td>Private</td>\n",
       "      <td>244602</td>\n",
       "      <td>12th</td>\n",
       "      <td>8</td>\n",
       "      <td>Never-married</td>\n",
       "      <td>Other-service</td>\n",
       "      <td>Own-child</td>\n",
       "      <td>White</td>\n",
       "      <td>Male</td>\n",
       "      <td>0</td>\n",
       "      <td>0</td>\n",
       "      <td>15</td>\n",
       "      <td>United-States</td>\n",
       "      <td>0</td>\n",
       "    </tr>\n",
       "    <tr>\n",
       "      <th>2</th>\n",
       "      <td>31</td>\n",
       "      <td>Private</td>\n",
       "      <td>174201</td>\n",
       "      <td>Bachelors</td>\n",
       "      <td>13</td>\n",
       "      <td>Married-civ-spouse</td>\n",
       "      <td>Exec-managerial</td>\n",
       "      <td>Husband</td>\n",
       "      <td>White</td>\n",
       "      <td>Male</td>\n",
       "      <td>0</td>\n",
       "      <td>0</td>\n",
       "      <td>40</td>\n",
       "      <td>United-States</td>\n",
       "      <td>1</td>\n",
       "    </tr>\n",
       "    <tr>\n",
       "      <th>3</th>\n",
       "      <td>58</td>\n",
       "      <td>State-gov</td>\n",
       "      <td>110199</td>\n",
       "      <td>7th-8th</td>\n",
       "      <td>4</td>\n",
       "      <td>Married-civ-spouse</td>\n",
       "      <td>Transport-moving</td>\n",
       "      <td>Husband</td>\n",
       "      <td>White</td>\n",
       "      <td>Male</td>\n",
       "      <td>0</td>\n",
       "      <td>0</td>\n",
       "      <td>40</td>\n",
       "      <td>United-States</td>\n",
       "      <td>0</td>\n",
       "    </tr>\n",
       "    <tr>\n",
       "      <th>4</th>\n",
       "      <td>25</td>\n",
       "      <td>State-gov</td>\n",
       "      <td>149248</td>\n",
       "      <td>Some-college</td>\n",
       "      <td>10</td>\n",
       "      <td>Never-married</td>\n",
       "      <td>Other-service</td>\n",
       "      <td>Not-in-family</td>\n",
       "      <td>Black</td>\n",
       "      <td>Male</td>\n",
       "      <td>0</td>\n",
       "      <td>0</td>\n",
       "      <td>40</td>\n",
       "      <td>United-States</td>\n",
       "      <td>0</td>\n",
       "    </tr>\n",
       "  </tbody>\n",
       "</table>\n",
       "</div>"
      ],
      "text/plain": [
       "   age  workclass  fnlwgt     education  educational-num      marital-status  \\\n",
       "0   67    Private  366425     Doctorate               16            Divorced   \n",
       "1   17    Private  244602          12th                8       Never-married   \n",
       "2   31    Private  174201     Bachelors               13  Married-civ-spouse   \n",
       "3   58  State-gov  110199       7th-8th                4  Married-civ-spouse   \n",
       "4   25  State-gov  149248  Some-college               10       Never-married   \n",
       "\n",
       "         occupation   relationship   race gender  capital-gain  capital-loss  \\\n",
       "0   Exec-managerial  Not-in-family  White   Male         99999             0   \n",
       "1     Other-service      Own-child  White   Male             0             0   \n",
       "2   Exec-managerial        Husband  White   Male             0             0   \n",
       "3  Transport-moving        Husband  White   Male             0             0   \n",
       "4     Other-service  Not-in-family  Black   Male             0             0   \n",
       "\n",
       "   hours-per-week native-country  income_>50K  \n",
       "0              60  United-States            1  \n",
       "1              15  United-States            0  \n",
       "2              40  United-States            1  \n",
       "3              40  United-States            0  \n",
       "4              40  United-States            0  "
      ]
     },
     "execution_count": 267,
     "metadata": {},
     "output_type": "execute_result"
    }
   ],
   "source": [
    "df.head()"
   ]
  },
  {
   "cell_type": "code",
   "execution_count": 268,
   "id": "b9434bfd",
   "metadata": {},
   "outputs": [
    {
     "name": "stdout",
     "output_type": "stream",
     "text": [
      "<class 'pandas.core.frame.DataFrame'>\n",
      "RangeIndex: 43957 entries, 0 to 43956\n",
      "Data columns (total 15 columns):\n",
      " #   Column           Non-Null Count  Dtype \n",
      "---  ------           --------------  ----- \n",
      " 0   age              43957 non-null  int64 \n",
      " 1   workclass        41459 non-null  object\n",
      " 2   fnlwgt           43957 non-null  int64 \n",
      " 3   education        43957 non-null  object\n",
      " 4   educational-num  43957 non-null  int64 \n",
      " 5   marital-status   43957 non-null  object\n",
      " 6   occupation       41451 non-null  object\n",
      " 7   relationship     43957 non-null  object\n",
      " 8   race             43957 non-null  object\n",
      " 9   gender           43957 non-null  object\n",
      " 10  capital-gain     43957 non-null  int64 \n",
      " 11  capital-loss     43957 non-null  int64 \n",
      " 12  hours-per-week   43957 non-null  int64 \n",
      " 13  native-country   43194 non-null  object\n",
      " 14  income_>50K      43957 non-null  int64 \n",
      "dtypes: int64(7), object(8)\n",
      "memory usage: 5.0+ MB\n"
     ]
    }
   ],
   "source": [
    "df.info()"
   ]
  },
  {
   "cell_type": "code",
   "execution_count": 269,
   "id": "83176edd",
   "metadata": {},
   "outputs": [
    {
     "data": {
      "text/html": [
       "<div>\n",
       "<style scoped>\n",
       "    .dataframe tbody tr th:only-of-type {\n",
       "        vertical-align: middle;\n",
       "    }\n",
       "\n",
       "    .dataframe tbody tr th {\n",
       "        vertical-align: top;\n",
       "    }\n",
       "\n",
       "    .dataframe thead th {\n",
       "        text-align: right;\n",
       "    }\n",
       "</style>\n",
       "<table border=\"1\" class=\"dataframe\">\n",
       "  <thead>\n",
       "    <tr style=\"text-align: right;\">\n",
       "      <th></th>\n",
       "      <th>age</th>\n",
       "      <th>fnlwgt</th>\n",
       "      <th>educational-num</th>\n",
       "      <th>capital-gain</th>\n",
       "      <th>capital-loss</th>\n",
       "      <th>hours-per-week</th>\n",
       "      <th>income_&gt;50K</th>\n",
       "    </tr>\n",
       "  </thead>\n",
       "  <tbody>\n",
       "    <tr>\n",
       "      <th>count</th>\n",
       "      <td>43957.000000</td>\n",
       "      <td>4.395700e+04</td>\n",
       "      <td>43957.000000</td>\n",
       "      <td>43957.000000</td>\n",
       "      <td>43957.000000</td>\n",
       "      <td>43957.000000</td>\n",
       "      <td>43957.000000</td>\n",
       "    </tr>\n",
       "    <tr>\n",
       "      <th>mean</th>\n",
       "      <td>38.617149</td>\n",
       "      <td>1.896730e+05</td>\n",
       "      <td>10.074118</td>\n",
       "      <td>1093.559797</td>\n",
       "      <td>88.246491</td>\n",
       "      <td>40.407694</td>\n",
       "      <td>0.239279</td>\n",
       "    </tr>\n",
       "    <tr>\n",
       "      <th>std</th>\n",
       "      <td>13.734401</td>\n",
       "      <td>1.058215e+05</td>\n",
       "      <td>2.575092</td>\n",
       "      <td>7570.536063</td>\n",
       "      <td>404.588410</td>\n",
       "      <td>12.400303</td>\n",
       "      <td>0.426648</td>\n",
       "    </tr>\n",
       "    <tr>\n",
       "      <th>min</th>\n",
       "      <td>17.000000</td>\n",
       "      <td>1.349200e+04</td>\n",
       "      <td>1.000000</td>\n",
       "      <td>0.000000</td>\n",
       "      <td>0.000000</td>\n",
       "      <td>1.000000</td>\n",
       "      <td>0.000000</td>\n",
       "    </tr>\n",
       "    <tr>\n",
       "      <th>25%</th>\n",
       "      <td>28.000000</td>\n",
       "      <td>1.174960e+05</td>\n",
       "      <td>9.000000</td>\n",
       "      <td>0.000000</td>\n",
       "      <td>0.000000</td>\n",
       "      <td>40.000000</td>\n",
       "      <td>0.000000</td>\n",
       "    </tr>\n",
       "    <tr>\n",
       "      <th>50%</th>\n",
       "      <td>37.000000</td>\n",
       "      <td>1.781000e+05</td>\n",
       "      <td>10.000000</td>\n",
       "      <td>0.000000</td>\n",
       "      <td>0.000000</td>\n",
       "      <td>40.000000</td>\n",
       "      <td>0.000000</td>\n",
       "    </tr>\n",
       "    <tr>\n",
       "      <th>75%</th>\n",
       "      <td>48.000000</td>\n",
       "      <td>2.376710e+05</td>\n",
       "      <td>12.000000</td>\n",
       "      <td>0.000000</td>\n",
       "      <td>0.000000</td>\n",
       "      <td>45.000000</td>\n",
       "      <td>0.000000</td>\n",
       "    </tr>\n",
       "    <tr>\n",
       "      <th>max</th>\n",
       "      <td>90.000000</td>\n",
       "      <td>1.490400e+06</td>\n",
       "      <td>16.000000</td>\n",
       "      <td>99999.000000</td>\n",
       "      <td>4356.000000</td>\n",
       "      <td>99.000000</td>\n",
       "      <td>1.000000</td>\n",
       "    </tr>\n",
       "  </tbody>\n",
       "</table>\n",
       "</div>"
      ],
      "text/plain": [
       "                age        fnlwgt  educational-num  capital-gain  \\\n",
       "count  43957.000000  4.395700e+04     43957.000000  43957.000000   \n",
       "mean      38.617149  1.896730e+05        10.074118   1093.559797   \n",
       "std       13.734401  1.058215e+05         2.575092   7570.536063   \n",
       "min       17.000000  1.349200e+04         1.000000      0.000000   \n",
       "25%       28.000000  1.174960e+05         9.000000      0.000000   \n",
       "50%       37.000000  1.781000e+05        10.000000      0.000000   \n",
       "75%       48.000000  2.376710e+05        12.000000      0.000000   \n",
       "max       90.000000  1.490400e+06        16.000000  99999.000000   \n",
       "\n",
       "       capital-loss  hours-per-week   income_>50K  \n",
       "count  43957.000000    43957.000000  43957.000000  \n",
       "mean      88.246491       40.407694      0.239279  \n",
       "std      404.588410       12.400303      0.426648  \n",
       "min        0.000000        1.000000      0.000000  \n",
       "25%        0.000000       40.000000      0.000000  \n",
       "50%        0.000000       40.000000      0.000000  \n",
       "75%        0.000000       45.000000      0.000000  \n",
       "max     4356.000000       99.000000      1.000000  "
      ]
     },
     "execution_count": 269,
     "metadata": {},
     "output_type": "execute_result"
    }
   ],
   "source": [
    "df.describe()"
   ]
  },
  {
   "cell_type": "code",
   "execution_count": 270,
   "id": "8391daed",
   "metadata": {},
   "outputs": [
    {
     "data": {
      "text/plain": [
       "array([1, 0], dtype=int64)"
      ]
     },
     "execution_count": 270,
     "metadata": {},
     "output_type": "execute_result"
    }
   ],
   "source": [
    "df[\"income_>50K\"].unique()"
   ]
  },
  {
   "cell_type": "code",
   "execution_count": 271,
   "id": "769ff12c",
   "metadata": {},
   "outputs": [
    {
     "data": {
      "text/plain": [
       "0    33439\n",
       "1    10518\n",
       "Name: income_>50K, dtype: int64"
      ]
     },
     "execution_count": 271,
     "metadata": {},
     "output_type": "execute_result"
    }
   ],
   "source": [
    "df[\"income_>50K\"].value_counts()"
   ]
  },
  {
   "cell_type": "code",
   "execution_count": 272,
   "id": "4739c9af",
   "metadata": {},
   "outputs": [
    {
     "data": {
      "text/plain": [
       "age                   0\n",
       "workclass          2498\n",
       "fnlwgt                0\n",
       "education             0\n",
       "educational-num       0\n",
       "marital-status        0\n",
       "occupation         2506\n",
       "relationship          0\n",
       "race                  0\n",
       "gender                0\n",
       "capital-gain          0\n",
       "capital-loss          0\n",
       "hours-per-week        0\n",
       "native-country      763\n",
       "income_>50K           0\n",
       "dtype: int64"
      ]
     },
     "execution_count": 272,
     "metadata": {},
     "output_type": "execute_result"
    }
   ],
   "source": [
    "df.isnull().sum()"
   ]
  },
  {
   "cell_type": "code",
   "execution_count": 273,
   "id": "df3f482a",
   "metadata": {},
   "outputs": [],
   "source": [
    "def percent_missing(df):\n",
    "    percent_nan = 100* df.isnull().sum() / len(df)\n",
    "    percent_nan = percent_nan[percent_nan>0].sort_values()\n",
    "    return percent_nan"
   ]
  },
  {
   "cell_type": "code",
   "execution_count": 274,
   "id": "7ae8bffc",
   "metadata": {},
   "outputs": [],
   "source": [
    "def plot_missing_percentage(percent_nan):\n",
    "    if(len(percent_nan) != 0):\n",
    "        sns.barplot(x=percent_nan.index,y=percent_nan)\n",
    "        plt.xticks(rotation=90);"
   ]
  },
  {
   "cell_type": "code",
   "execution_count": 275,
   "id": "bf119897",
   "metadata": {},
   "outputs": [
    {
     "data": {
      "text/plain": [
       "native-country    1.735787\n",
       "workclass         5.682826\n",
       "occupation        5.701026\n",
       "dtype: float64"
      ]
     },
     "execution_count": 275,
     "metadata": {},
     "output_type": "execute_result"
    }
   ],
   "source": [
    "percent_nan = percent_missing(df)\n",
    "percent_nan"
   ]
  },
  {
   "cell_type": "code",
   "execution_count": 276,
   "id": "811f2643",
   "metadata": {},
   "outputs": [
    {
     "data": {
      "image/png": "[encoded data removed]",
      "text/plain": [
       "<Figure size 432x288 with 1 Axes>"
      ]
     },
     "metadata": {
      "needs_background": "light"
     },
     "output_type": "display_data"
    }
   ],
   "source": [
    "plot_missing_percentage(percent_nan)"
   ]
  },
  {
   "cell_type": "code",
   "execution_count": 277,
   "id": "0fc2ac92",
   "metadata": {},
   "outputs": [],
   "source": [
    "nulls = []\n",
    "for index, row in df.iterrows():\n",
    "    if(pd.isnull(row[\"native-country\"]) or pd.isnull(row[\"workclass\"]) or pd.isnull(row[\"occupation\"])):\n",
    "        nulls.append(index)\n",
    "        df = df.drop(labels=index, axis=0)"
   ]
  },
  {
   "cell_type": "code",
   "execution_count": 278,
   "id": "96e1631d",
   "metadata": {},
   "outputs": [
    {
     "data": {
      "text/plain": [
       "age                0\n",
       "workclass          0\n",
       "fnlwgt             0\n",
       "education          0\n",
       "educational-num    0\n",
       "marital-status     0\n",
       "occupation         0\n",
       "relationship       0\n",
       "race               0\n",
       "gender             0\n",
       "capital-gain       0\n",
       "capital-loss       0\n",
       "hours-per-week     0\n",
       "native-country     0\n",
       "income_>50K        0\n",
       "dtype: int64"
      ]
     },
     "execution_count": 278,
     "metadata": {},
     "output_type": "execute_result"
    }
   ],
   "source": [
    "df.isnull().sum()"
   ]
  },
  {
   "cell_type": "markdown",
   "id": "6dbff6c4",
   "metadata": {},
   "source": [
    "let's deal with the categorical columns by encoding them using one hot encoding method"
   ]
  },
  {
   "cell_type": "code",
   "execution_count": 279,
   "id": "43f2b203",
   "metadata": {},
   "outputs": [],
   "source": [
    "categorical_columns = ['workclass','education','marital-status', 'occupation', 'relationship', 'race', \n",
    "                       'gender','native-country']\n"
   ]
  },
  {
   "cell_type": "code",
   "execution_count": 280,
   "id": "9957031e",
   "metadata": {},
   "outputs": [
    {
     "data": {
      "text/html": [
       "<div>\n",
       "<style scoped>\n",
       "    .dataframe tbody tr th:only-of-type {\n",
       "        vertical-align: middle;\n",
       "    }\n",
       "\n",
       "    .dataframe tbody tr th {\n",
       "        vertical-align: top;\n",
       "    }\n",
       "\n",
       "    .dataframe thead th {\n",
       "        text-align: right;\n",
       "    }\n",
       "</style>\n",
       "<table border=\"1\" class=\"dataframe\">\n",
       "  <thead>\n",
       "    <tr style=\"text-align: right;\">\n",
       "      <th></th>\n",
       "      <th>age</th>\n",
       "      <th>fnlwgt</th>\n",
       "      <th>educational-num</th>\n",
       "      <th>capital-gain</th>\n",
       "      <th>capital-loss</th>\n",
       "      <th>hours-per-week</th>\n",
       "      <th>income_&gt;50K</th>\n",
       "      <th>workclass_Federal-gov</th>\n",
       "      <th>workclass_Local-gov</th>\n",
       "      <th>workclass_Private</th>\n",
       "      <th>...</th>\n",
       "      <th>native-country_Portugal</th>\n",
       "      <th>native-country_Puerto-Rico</th>\n",
       "      <th>native-country_Scotland</th>\n",
       "      <th>native-country_South</th>\n",
       "      <th>native-country_Taiwan</th>\n",
       "      <th>native-country_Thailand</th>\n",
       "      <th>native-country_Trinadad&amp;Tobago</th>\n",
       "      <th>native-country_United-States</th>\n",
       "      <th>native-country_Vietnam</th>\n",
       "      <th>native-country_Yugoslavia</th>\n",
       "    </tr>\n",
       "  </thead>\n",
       "  <tbody>\n",
       "    <tr>\n",
       "      <th>0</th>\n",
       "      <td>67</td>\n",
       "      <td>366425</td>\n",
       "      <td>16</td>\n",
       "      <td>99999</td>\n",
       "      <td>0</td>\n",
       "      <td>60</td>\n",
       "      <td>1</td>\n",
       "      <td>0</td>\n",
       "      <td>0</td>\n",
       "      <td>1</td>\n",
       "      <td>...</td>\n",
       "      <td>0</td>\n",
       "      <td>0</td>\n",
       "      <td>0</td>\n",
       "      <td>0</td>\n",
       "      <td>0</td>\n",
       "      <td>0</td>\n",
       "      <td>0</td>\n",
       "      <td>1</td>\n",
       "      <td>0</td>\n",
       "      <td>0</td>\n",
       "    </tr>\n",
       "    <tr>\n",
       "      <th>1</th>\n",
       "      <td>17</td>\n",
       "      <td>244602</td>\n",
       "      <td>8</td>\n",
       "      <td>0</td>\n",
       "      <td>0</td>\n",
       "      <td>15</td>\n",
       "      <td>0</td>\n",
       "      <td>0</td>\n",
       "      <td>0</td>\n",
       "      <td>1</td>\n",
       "      <td>...</td>\n",
       "      <td>0</td>\n",
       "      <td>0</td>\n",
       "      <td>0</td>\n",
       "      <td>0</td>\n",
       "      <td>0</td>\n",
       "      <td>0</td>\n",
       "      <td>0</td>\n",
       "      <td>1</td>\n",
       "      <td>0</td>\n",
       "      <td>0</td>\n",
       "    </tr>\n",
       "    <tr>\n",
       "      <th>2</th>\n",
       "      <td>31</td>\n",
       "      <td>174201</td>\n",
       "      <td>13</td>\n",
       "      <td>0</td>\n",
       "      <td>0</td>\n",
       "      <td>40</td>\n",
       "      <td>1</td>\n",
       "      <td>0</td>\n",
       "      <td>0</td>\n",
       "      <td>1</td>\n",
       "      <td>...</td>\n",
       "      <td>0</td>\n",
       "      <td>0</td>\n",
       "      <td>0</td>\n",
       "      <td>0</td>\n",
       "      <td>0</td>\n",
       "      <td>0</td>\n",
       "      <td>0</td>\n",
       "      <td>1</td>\n",
       "      <td>0</td>\n",
       "      <td>0</td>\n",
       "    </tr>\n",
       "    <tr>\n",
       "      <th>3</th>\n",
       "      <td>58</td>\n",
       "      <td>110199</td>\n",
       "      <td>4</td>\n",
       "      <td>0</td>\n",
       "      <td>0</td>\n",
       "      <td>40</td>\n",
       "      <td>0</td>\n",
       "      <td>0</td>\n",
       "      <td>0</td>\n",
       "      <td>0</td>\n",
       "      <td>...</td>\n",
       "      <td>0</td>\n",
       "      <td>0</td>\n",
       "      <td>0</td>\n",
       "      <td>0</td>\n",
       "      <td>0</td>\n",
       "      <td>0</td>\n",
       "      <td>0</td>\n",
       "      <td>1</td>\n",
       "      <td>0</td>\n",
       "      <td>0</td>\n",
       "    </tr>\n",
       "    <tr>\n",
       "      <th>4</th>\n",
       "      <td>25</td>\n",
       "      <td>149248</td>\n",
       "      <td>10</td>\n",
       "      <td>0</td>\n",
       "      <td>0</td>\n",
       "      <td>40</td>\n",
       "      <td>0</td>\n",
       "      <td>0</td>\n",
       "      <td>0</td>\n",
       "      <td>0</td>\n",
       "      <td>...</td>\n",
       "      <td>0</td>\n",
       "      <td>0</td>\n",
       "      <td>0</td>\n",
       "      <td>0</td>\n",
       "      <td>0</td>\n",
       "      <td>0</td>\n",
       "      <td>0</td>\n",
       "      <td>1</td>\n",
       "      <td>0</td>\n",
       "      <td>0</td>\n",
       "    </tr>\n",
       "  </tbody>\n",
       "</table>\n",
       "<p>5 rows × 105 columns</p>\n",
       "</div>"
      ],
      "text/plain": [
       "   age  fnlwgt  educational-num  capital-gain  capital-loss  hours-per-week  \\\n",
       "0   67  366425               16         99999             0              60   \n",
       "1   17  244602                8             0             0              15   \n",
       "2   31  174201               13             0             0              40   \n",
       "3   58  110199                4             0             0              40   \n",
       "4   25  149248               10             0             0              40   \n",
       "\n",
       "   income_>50K  workclass_Federal-gov  workclass_Local-gov  workclass_Private  \\\n",
       "0            1                      0                    0                  1   \n",
       "1            0                      0                    0                  1   \n",
       "2            1                      0                    0                  1   \n",
       "3            0                      0                    0                  0   \n",
       "4            0                      0                    0                  0   \n",
       "\n",
       "   ...  native-country_Portugal  native-country_Puerto-Rico  \\\n",
       "0  ...                        0                           0   \n",
       "1  ...                        0                           0   \n",
       "2  ...                        0                           0   \n",
       "3  ...                        0                           0   \n",
       "4  ...                        0                           0   \n",
       "\n",
       "   native-country_Scotland  native-country_South  native-country_Taiwan  \\\n",
       "0                        0                     0                      0   \n",
       "1                        0                     0                      0   \n",
       "2                        0                     0                      0   \n",
       "3                        0                     0                      0   \n",
       "4                        0                     0                      0   \n",
       "\n",
       "   native-country_Thailand  native-country_Trinadad&Tobago  \\\n",
       "0                        0                               0   \n",
       "1                        0                               0   \n",
       "2                        0                               0   \n",
       "3                        0                               0   \n",
       "4                        0                               0   \n",
       "\n",
       "   native-country_United-States  native-country_Vietnam  \\\n",
       "0                             1                       0   \n",
       "1                             1                       0   \n",
       "2                             1                       0   \n",
       "3                             1                       0   \n",
       "4                             1                       0   \n",
       "\n",
       "   native-country_Yugoslavia  \n",
       "0                          0  \n",
       "1                          0  \n",
       "2                          0  \n",
       "3                          0  \n",
       "4                          0  \n",
       "\n",
       "[5 rows x 105 columns]"
      ]
     },
     "execution_count": 280,
     "metadata": {},
     "output_type": "execute_result"
    }
   ],
   "source": [
    "df = pd.get_dummies(df, columns = categorical_columns)\n",
    "df.head()"
   ]
  },
  {
   "cell_type": "code",
   "execution_count": 281,
   "id": "f5ed661a",
   "metadata": {},
   "outputs": [],
   "source": [
    "from sklearn.model_selection import train_test_split\n",
    "from sklearn.preprocessing import StandardScaler"
   ]
  },
  {
   "cell_type": "code",
   "execution_count": 282,
   "id": "e664261f",
   "metadata": {},
   "outputs": [],
   "source": [
    "X = df.drop('income_>50K',axis=1)\n",
    "y = df['income_>50K']"
   ]
  },
  {
   "cell_type": "code",
   "execution_count": 283,
   "id": "8f92e412",
   "metadata": {},
   "outputs": [],
   "source": [
    "X_train, X_test, y_train, y_test = train_test_split(X, y, test_size=0.1, random_state=101)"
   ]
  },
  {
   "cell_type": "code",
   "execution_count": 284,
   "id": "2a073d3e",
   "metadata": {},
   "outputs": [],
   "source": [
    "scaler = StandardScaler()"
   ]
  },
  {
   "cell_type": "code",
   "execution_count": 285,
   "id": "cb323a1b",
   "metadata": {},
   "outputs": [],
   "source": [
    "scaled_X_train = scaler.fit_transform(X_train)\n",
    "scaled_X_test = scaler.transform(X_test)"
   ]
  },
  {
   "cell_type": "markdown",
   "id": "d67198ff",
   "metadata": {},
   "source": [
    "2.A) Logistic Regression\n",
    "----"
   ]
  },
  {
   "cell_type": "code",
   "execution_count": 286,
   "id": "79b4f4dd",
   "metadata": {},
   "outputs": [],
   "source": [
    "from sklearn.linear_model import LogisticRegression"
   ]
  },
  {
   "cell_type": "code",
   "execution_count": 287,
   "id": "e5219bfa",
   "metadata": {},
   "outputs": [],
   "source": [
    "logistic_model = LogisticRegression()"
   ]
  },
  {
   "cell_type": "code",
   "execution_count": 288,
   "id": "71332ba2",
   "metadata": {},
   "outputs": [
    {
     "data": {
      "text/plain": [
       "LogisticRegression()"
      ]
     },
     "execution_count": 288,
     "metadata": {},
     "output_type": "execute_result"
    }
   ],
   "source": [
    "logistic_model.fit(scaled_X_train,y_train)"
   ]
  },
  {
   "cell_type": "code",
   "execution_count": 289,
   "id": "9549b12c",
   "metadata": {},
   "outputs": [
    {
     "data": {
      "text/plain": [
       "array([[ 3.47357145e-01,  7.98156488e-02,  3.43955655e-01,\n",
       "         2.43968077e+00,  2.48011642e-01,  3.43210132e-01,\n",
       "         1.01876586e-01, -1.10239093e-02,  4.32238574e-02,\n",
       "         4.78398590e-02, -1.25518063e-01, -3.77210088e-02,\n",
       "        -2.93900457e-02, -8.62590038e-02, -1.00473331e-01,\n",
       "        -4.85061107e-02, -3.65901217e-02, -3.37196834e-02,\n",
       "        -1.22077674e-01, -8.97795398e-02,  2.22622172e-03,\n",
       "         1.44297997e-03,  1.54453433e-01,  8.45693103e-02,\n",
       "        -9.26577536e-02,  1.40912789e-01, -1.87030099e-01,\n",
       "         1.35713444e-01,  1.14113336e-02, -2.28768130e-01,\n",
       "         3.60686569e-02,  7.18675724e-01, -4.72259261e-02,\n",
       "        -5.11598090e-01, -1.15491404e-01, -9.67313770e-02,\n",
       "        -2.87312872e-02,  1.87864697e-03,  1.16038634e-02,\n",
       "         2.45058452e-01, -1.65626561e-01, -1.24435718e-01,\n",
       "        -1.00569240e-01, -2.69397076e-01, -1.74529079e-01,\n",
       "         1.63320271e-01,  6.92436324e-02,  7.39294389e-02,\n",
       "         9.89404479e-02, -3.80062838e-02, -1.49397901e-02,\n",
       "         1.35344978e-01, -1.17932836e-01, -2.65841831e-01,\n",
       "         4.16082645e-02,  2.34968658e-01, -5.55645007e-02,\n",
       "         5.90271071e-02, -3.62900547e-02, -2.67265884e-03,\n",
       "         1.84941286e-02, -1.68444349e-01,  1.68444349e-01,\n",
       "         1.71665016e-02,  5.35411298e-02, -3.79665661e-02,\n",
       "        -9.94624568e-02,  2.88945134e-02, -4.18542285e-02,\n",
       "        -1.32014115e-02, -1.84920915e-03,  3.26823226e-02,\n",
       "         2.26134146e-02,  8.64660754e-03, -6.36910776e-03,\n",
       "        -7.80469864e-03,  1.79823696e-02, -2.21995711e-02,\n",
       "         4.04184511e-03, -1.64926385e-02,  6.76389251e-03,\n",
       "        -3.35505583e-03, -9.42206262e-03,  3.36233509e-02,\n",
       "         3.03803069e-02,  1.66993664e-02, -1.44644781e-02,\n",
       "        -7.84902999e-03, -8.62692239e-02, -4.41452715e-03,\n",
       "        -1.19576765e-01, -1.84593235e-02,  1.99732638e-02,\n",
       "        -2.37706438e-03,  2.98445858e-02, -3.43822871e-04,\n",
       "        -1.59721519e-02, -5.90575580e-02, -1.12981463e-02,\n",
       "        -2.44808020e-02, -1.67934849e-01,  7.66327047e-02,\n",
       "        -4.78709139e-02,  7.00040863e-03]])"
      ]
     },
     "execution_count": 289,
     "metadata": {},
     "output_type": "execute_result"
    }
   ],
   "source": [
    "logistic_model.coef_"
   ]
  },
  {
   "cell_type": "code",
   "execution_count": 290,
   "id": "51b20821",
   "metadata": {},
   "outputs": [],
   "source": [
    "y_pred = logistic_model.predict(scaled_X_test)"
   ]
  },
  {
   "cell_type": "code",
   "execution_count": 291,
   "id": "6546cef7",
   "metadata": {},
   "outputs": [
    {
     "data": {
      "text/plain": [
       "0.8541615516818071"
      ]
     },
     "execution_count": 291,
     "metadata": {},
     "output_type": "execute_result"
    }
   ],
   "source": [
    "accuracy_score(y_pred,y_test)"
   ]
  },
  {
   "cell_type": "code",
   "execution_count": 292,
   "id": "90ea63eb",
   "metadata": {},
   "outputs": [
    {
     "data": {
      "text/plain": [
       "array([[2861,  212],\n",
       "       [ 382,  618]], dtype=int64)"
      ]
     },
     "execution_count": 292,
     "metadata": {},
     "output_type": "execute_result"
    }
   ],
   "source": [
    "confusion_matrix(y_test,y_pred)"
   ]
  },
  {
   "cell_type": "code",
   "execution_count": 293,
   "id": "5bfbfbd0",
   "metadata": {},
   "outputs": [
    {
     "name": "stdout",
     "output_type": "stream",
     "text": [
      "              precision    recall  f1-score   support\n",
      "\n",
      "           0       0.88      0.93      0.91      3073\n",
      "           1       0.74      0.62      0.68      1000\n",
      "\n",
      "    accuracy                           0.85      4073\n",
      "   macro avg       0.81      0.77      0.79      4073\n",
      "weighted avg       0.85      0.85      0.85      4073\n",
      "\n"
     ]
    }
   ],
   "source": [
    "print(classification_report(y_test,y_pred))"
   ]
  },
  {
   "cell_type": "markdown",
   "id": "71944b78",
   "metadata": {},
   "source": [
    "2.B) KNN Model\n",
    "------"
   ]
  },
  {
   "cell_type": "code",
   "execution_count": 29,
   "id": "ea213cbb",
   "metadata": {},
   "outputs": [],
   "source": [
    "from sklearn.neighbors import KNeighborsClassifier"
   ]
  },
  {
   "cell_type": "code",
   "execution_count": 52,
   "id": "caf3c10a",
   "metadata": {},
   "outputs": [],
   "source": [
    "test_error_rates = []\n",
    "\n",
    "\n",
    "for k in range(1,21):\n",
    "    knn_model = KNeighborsClassifier(n_neighbors=k)\n",
    "    knn_model.fit(scaled_X_train,y_train) \n",
    "   \n",
    "    y_pred_test = knn_model.predict(scaled_X_test)\n",
    "    \n",
    "    test_error = 1 - accuracy_score(y_test,y_pred_test)\n",
    "    test_error_rates.append(test_error)"
   ]
  },
  {
   "cell_type": "code",
   "execution_count": 53,
   "id": "bce22cae",
   "metadata": {},
   "outputs": [
    {
     "data": {
      "text/plain": [
       "[0.20476307390130122,\n",
       " 0.18585808986005403,\n",
       " 0.176037318929536,\n",
       " 0.171126933464277,\n",
       " 0.17235452983059174,\n",
       " 0.16916277927817336,\n",
       " 0.16842622145838448,\n",
       " 0.16670758654554385,\n",
       " 0.16891726000491036,\n",
       " 0.16449791308617723,\n",
       " 0.16744414436533273,\n",
       " 0.16400687453965135,\n",
       " 0.16597102872575498,\n",
       " 0.16204272035354772,\n",
       " 0.16400687453965135,\n",
       " 0.16449791308617723,\n",
       " 0.1652344709059661,\n",
       " 0.16327031671986247,\n",
       " 0.16719862509206973,\n",
       " 0.16474343235944022]"
      ]
     },
     "execution_count": 53,
     "metadata": {},
     "output_type": "execute_result"
    }
   ],
   "source": [
    "test_error_rates"
   ]
  },
  {
   "cell_type": "code",
   "execution_count": 55,
   "id": "c8ef5aa2",
   "metadata": {},
   "outputs": [
    {
     "data": {
      "text/plain": [
       "Text(0.5, 0, 'K Value')"
      ]
     },
     "execution_count": 55,
     "metadata": {},
     "output_type": "execute_result"
    },
    {
     "data": {
      "image/png": "[encoded data removed]",
      "text/plain": [
       "<Figure size 2000x1200 with 1 Axes>"
      ]
     },
     "metadata": {
      "needs_background": "light"
     },
     "output_type": "display_data"
    }
   ],
   "source": [
    "plt.figure(figsize=(10,6),dpi=200)\n",
    "plt.plot(range(1,21),test_error_rates,label='Test Error')\n",
    "plt.legend()\n",
    "plt.ylabel('Error Rate')\n",
    "plt.xlabel(\"K Value\")"
   ]
  },
  {
   "cell_type": "markdown",
   "id": "72c8d5b7",
   "metadata": {},
   "source": [
    "Best K = 14"
   ]
  },
  {
   "cell_type": "code",
   "execution_count": 57,
   "id": "67d7271a",
   "metadata": {},
   "outputs": [
    {
     "data": {
      "text/plain": [
       "KNeighborsClassifier(n_neighbors=14)"
      ]
     },
     "execution_count": 57,
     "metadata": {},
     "output_type": "execute_result"
    }
   ],
   "source": [
    "knn_model = KNeighborsClassifier(n_neighbors=14)\n",
    "knn_model.fit(scaled_X_train,y_train)"
   ]
  },
  {
   "cell_type": "code",
   "execution_count": 58,
   "id": "f8c1b463",
   "metadata": {},
   "outputs": [],
   "source": [
    "y_pred_test = knn_model.predict(scaled_X_test)"
   ]
  },
  {
   "cell_type": "code",
   "execution_count": 59,
   "id": "1e337f3c",
   "metadata": {},
   "outputs": [
    {
     "data": {
      "text/plain": [
       "0.8379572796464523"
      ]
     },
     "execution_count": 59,
     "metadata": {},
     "output_type": "execute_result"
    }
   ],
   "source": [
    "accuracy_score(y_test,y_pred_test)"
   ]
  },
  {
   "cell_type": "code",
   "execution_count": 60,
   "id": "1065cef8",
   "metadata": {},
   "outputs": [
    {
     "data": {
      "text/plain": [
       "array([[2865,  208],\n",
       "       [ 452,  548]], dtype=int64)"
      ]
     },
     "execution_count": 60,
     "metadata": {},
     "output_type": "execute_result"
    }
   ],
   "source": [
    "confusion_matrix(y_test,y_pred_test)"
   ]
  },
  {
   "cell_type": "code",
   "execution_count": 61,
   "id": "4717b137",
   "metadata": {},
   "outputs": [
    {
     "name": "stdout",
     "output_type": "stream",
     "text": [
      "              precision    recall  f1-score   support\n",
      "\n",
      "           0       0.86      0.93      0.90      3073\n",
      "           1       0.72      0.55      0.62      1000\n",
      "\n",
      "    accuracy                           0.84      4073\n",
      "   macro avg       0.79      0.74      0.76      4073\n",
      "weighted avg       0.83      0.84      0.83      4073\n",
      "\n"
     ]
    }
   ],
   "source": [
    "print(classification_report(y_test,y_pred_test))"
   ]
  },
  {
   "cell_type": "markdown",
   "id": "a6f3e7a2",
   "metadata": {},
   "source": [
    "2.C) SVM Model\n",
    "-----"
   ]
  },
  {
   "cell_type": "code",
   "execution_count": 294,
   "id": "76af9a72",
   "metadata": {},
   "outputs": [],
   "source": [
    "from sklearn import svm # Supprt Vector Classifier\n",
    "from sklearn.svm import SVC # Supprt Vector Classifier\n",
    "from sklearn.model_selection import GridSearchCV"
   ]
  },
  {
   "cell_type": "markdown",
   "id": "fb79a855",
   "metadata": {},
   "source": [
    "Linear Kernel"
   ]
  },
  {
   "cell_type": "code",
   "execution_count": 295,
   "id": "ff66a23d",
   "metadata": {},
   "outputs": [],
   "source": [
    "param_grid = {'C':[0.5,1],\n",
    "             'kernel':['linear'],\n",
    "              'gamma':['scale','auto']}"
   ]
  },
  {
   "cell_type": "code",
   "execution_count": 296,
   "id": "444d32df",
   "metadata": {},
   "outputs": [],
   "source": [
    "svc = SVC()\n",
    "grid1 = GridSearchCV(svc,param_grid=param_grid)"
   ]
  },
  {
   "cell_type": "code",
   "execution_count": 297,
   "id": "c4d06e1d",
   "metadata": {},
   "outputs": [
    {
     "data": {
      "text/plain": [
       "GridSearchCV(estimator=SVC(),\n",
       "             param_grid={'C': [0.5, 1], 'gamma': ['scale', 'auto'],\n",
       "                         'kernel': ['linear']})"
      ]
     },
     "execution_count": 297,
     "metadata": {},
     "output_type": "execute_result"
    }
   ],
   "source": [
    "grid1.fit(scaled_X_train,y_train)"
   ]
  },
  {
   "cell_type": "code",
   "execution_count": 298,
   "id": "0803d5a6",
   "metadata": {},
   "outputs": [
    {
     "data": {
      "text/plain": [
       "{'C': 1, 'gamma': 'scale', 'kernel': 'linear'}"
      ]
     },
     "execution_count": 298,
     "metadata": {},
     "output_type": "execute_result"
    }
   ],
   "source": [
    "grid1.best_params_"
   ]
  },
  {
   "cell_type": "code",
   "execution_count": 299,
   "id": "8300cdde",
   "metadata": {},
   "outputs": [],
   "source": [
    "grid_preds1 = grid1.predict(scaled_X_test)"
   ]
  },
  {
   "cell_type": "code",
   "execution_count": 300,
   "id": "a789053b",
   "metadata": {},
   "outputs": [
    {
     "data": {
      "text/plain": [
       "0.8553891480481218"
      ]
     },
     "execution_count": 300,
     "metadata": {},
     "output_type": "execute_result"
    }
   ],
   "source": [
    "accuracy_score(y_test,grid_preds1)"
   ]
  },
  {
   "cell_type": "markdown",
   "id": "a16a4273",
   "metadata": {},
   "source": [
    "rbf Kernel"
   ]
  },
  {
   "cell_type": "code",
   "execution_count": 74,
   "id": "fdb158bc",
   "metadata": {},
   "outputs": [],
   "source": [
    "param_grid = {'C':[0.5,1],\n",
    "             'kernel':['rbf'],\n",
    "              'gamma':['scale','auto']}"
   ]
  },
  {
   "cell_type": "code",
   "execution_count": 75,
   "id": "354e6777",
   "metadata": {},
   "outputs": [],
   "source": [
    "grid = GridSearchCV(svc,param_grid=param_grid)"
   ]
  },
  {
   "cell_type": "code",
   "execution_count": 76,
   "id": "17802a0f",
   "metadata": {},
   "outputs": [
    {
     "data": {
      "text/plain": [
       "GridSearchCV(estimator=SVC(),\n",
       "             param_grid={'C': [0.5, 1], 'gamma': ['scale', 'auto'],\n",
       "                         'kernel': ['rbf']})"
      ]
     },
     "execution_count": 76,
     "metadata": {},
     "output_type": "execute_result"
    }
   ],
   "source": [
    "grid.fit(scaled_X_train,y_train)"
   ]
  },
  {
   "cell_type": "code",
   "execution_count": 77,
   "id": "9efd6c64",
   "metadata": {},
   "outputs": [
    {
     "data": {
      "text/plain": [
       "{'C': 1, 'gamma': 'scale', 'kernel': 'rbf'}"
      ]
     },
     "execution_count": 77,
     "metadata": {},
     "output_type": "execute_result"
    }
   ],
   "source": [
    "grid.best_params_"
   ]
  },
  {
   "cell_type": "code",
   "execution_count": 78,
   "id": "68e8a1ed",
   "metadata": {},
   "outputs": [],
   "source": [
    "grid_preds = grid.predict(scaled_X_test)"
   ]
  },
  {
   "cell_type": "code",
   "execution_count": 82,
   "id": "c8c67385",
   "metadata": {},
   "outputs": [
    {
     "data": {
      "text/plain": [
       "0.85440707095507"
      ]
     },
     "execution_count": 82,
     "metadata": {},
     "output_type": "execute_result"
    }
   ],
   "source": [
    "accuracy_score(y_test,grid_preds)"
   ]
  },
  {
   "cell_type": "markdown",
   "id": "0e409fbd",
   "metadata": {},
   "source": [
    "Segmoid Kernel"
   ]
  },
  {
   "cell_type": "code",
   "execution_count": 87,
   "id": "387fa91c",
   "metadata": {},
   "outputs": [],
   "source": [
    "param_grid = {'C':[0.5,1],\n",
    "             'kernel':['sigmoid'],\n",
    "              'gamma':['scale','auto']}"
   ]
  },
  {
   "cell_type": "code",
   "execution_count": 88,
   "id": "2e1618cb",
   "metadata": {},
   "outputs": [],
   "source": [
    "grid = GridSearchCV(svc,param_grid=param_grid)"
   ]
  },
  {
   "cell_type": "code",
   "execution_count": 89,
   "id": "5d978be0",
   "metadata": {},
   "outputs": [
    {
     "data": {
      "text/plain": [
       "GridSearchCV(estimator=SVC(),\n",
       "             param_grid={'C': [0.5, 1], 'gamma': ['scale', 'auto'],\n",
       "                         'kernel': ['sigmoid']})"
      ]
     },
     "execution_count": 89,
     "metadata": {},
     "output_type": "execute_result"
    }
   ],
   "source": [
    "grid.fit(scaled_X_train,y_train)"
   ]
  },
  {
   "cell_type": "code",
   "execution_count": 90,
   "id": "2998282c",
   "metadata": {},
   "outputs": [
    {
     "data": {
      "text/plain": [
       "{'C': 0.5, 'gamma': 'scale', 'kernel': 'sigmoid'}"
      ]
     },
     "execution_count": 90,
     "metadata": {},
     "output_type": "execute_result"
    }
   ],
   "source": [
    "grid.best_params_"
   ]
  },
  {
   "cell_type": "code",
   "execution_count": 91,
   "id": "67225561",
   "metadata": {},
   "outputs": [],
   "source": [
    "grid_preds = grid.predict(scaled_X_test)"
   ]
  },
  {
   "cell_type": "code",
   "execution_count": 92,
   "id": "e51422ac",
   "metadata": {},
   "outputs": [
    {
     "data": {
      "text/plain": [
       "0.8313282592683525"
      ]
     },
     "execution_count": 92,
     "metadata": {},
     "output_type": "execute_result"
    }
   ],
   "source": [
    "accuracy_score(y_test,grid_preds)"
   ]
  },
  {
   "cell_type": "markdown",
   "id": "19bdbe90",
   "metadata": {},
   "source": [
    "Linear vs rbf vs Sigmoid\n",
    "* Linear has accuracy equals 85.5%\n",
    "* rbf has accuracy equals 85.4%\n",
    "* sigmoid has accuracy equals 83.1%\n",
    "\n",
    "so we choose the linear kernel as it has the highest accuracy"
   ]
  },
  {
   "cell_type": "code",
   "execution_count": 301,
   "id": "5f22cf7e",
   "metadata": {},
   "outputs": [
    {
     "data": {
      "text/plain": [
       "array([[2885,  188],\n",
       "       [ 401,  599]], dtype=int64)"
      ]
     },
     "execution_count": 301,
     "metadata": {},
     "output_type": "execute_result"
    }
   ],
   "source": [
    "confusion_matrix(y_test,grid_preds1)"
   ]
  },
  {
   "cell_type": "markdown",
   "id": "4ea39985",
   "metadata": {},
   "source": [
    "Classification report for linear kernel as it is the best kernel because it has the highest accuracy"
   ]
  },
  {
   "cell_type": "code",
   "execution_count": 302,
   "id": "6e66f757",
   "metadata": {},
   "outputs": [
    {
     "name": "stdout",
     "output_type": "stream",
     "text": [
      "              precision    recall  f1-score   support\n",
      "\n",
      "           0       0.88      0.94      0.91      3073\n",
      "           1       0.76      0.60      0.67      1000\n",
      "\n",
      "    accuracy                           0.86      4073\n",
      "   macro avg       0.82      0.77      0.79      4073\n",
      "weighted avg       0.85      0.86      0.85      4073\n",
      "\n"
     ]
    }
   ],
   "source": [
    "print(classification_report(y_test,grid_preds1))"
   ]
  },
  {
   "cell_type": "markdown",
   "id": "78d32309",
   "metadata": {},
   "source": [
    "2.D) Comments\n",
    "-----"
   ]
  },
  {
   "cell_type": "markdown",
   "id": "7f7c5400",
   "metadata": {},
   "source": [
    "Let's recap on the performance in terms of accuracy score of each model : \n",
    "* Logistic Regression gives accuracy equals 85.4%\n",
    "* KNN gives accuracy equals 83.7%\n",
    "* SVM gives accuracy equals 85.5%\n",
    "\n",
    "So, we choose SVM model to be the best out of them, as it has the highest accuracy.\n",
    "Also we can consider logistic regression model as it also has high accuracy and has another advantage over svm model\n",
    "which is minimum time to be trained"
   ]
  },
  {
   "cell_type": "markdown",
   "id": "53273290",
   "metadata": {},
   "source": [
    "###########################################################################################################################"
   ]
  },
  {
   "cell_type": "markdown",
   "id": "ba616546",
   "metadata": {},
   "source": [
    "3- Gene Expression Dataset\n",
    "---"
   ]
  },
  {
   "cell_type": "code",
   "execution_count": 33,
   "id": "aa1e11d4",
   "metadata": {},
   "outputs": [],
   "source": [
    "df = pd.read_csv('gene_expression.csv')"
   ]
  },
  {
   "cell_type": "code",
   "execution_count": 34,
   "id": "638ce820",
   "metadata": {},
   "outputs": [
    {
     "data": {
      "text/html": [
       "<div>\n",
       "<style scoped>\n",
       "    .dataframe tbody tr th:only-of-type {\n",
       "        vertical-align: middle;\n",
       "    }\n",
       "\n",
       "    .dataframe tbody tr th {\n",
       "        vertical-align: top;\n",
       "    }\n",
       "\n",
       "    .dataframe thead th {\n",
       "        text-align: right;\n",
       "    }\n",
       "</style>\n",
       "<table border=\"1\" class=\"dataframe\">\n",
       "  <thead>\n",
       "    <tr style=\"text-align: right;\">\n",
       "      <th></th>\n",
       "      <th>Gene One</th>\n",
       "      <th>Gene Two</th>\n",
       "      <th>Cancer Present</th>\n",
       "    </tr>\n",
       "  </thead>\n",
       "  <tbody>\n",
       "    <tr>\n",
       "      <th>0</th>\n",
       "      <td>4.3</td>\n",
       "      <td>3.9</td>\n",
       "      <td>1</td>\n",
       "    </tr>\n",
       "    <tr>\n",
       "      <th>1</th>\n",
       "      <td>2.5</td>\n",
       "      <td>6.3</td>\n",
       "      <td>0</td>\n",
       "    </tr>\n",
       "    <tr>\n",
       "      <th>2</th>\n",
       "      <td>5.7</td>\n",
       "      <td>3.9</td>\n",
       "      <td>1</td>\n",
       "    </tr>\n",
       "    <tr>\n",
       "      <th>3</th>\n",
       "      <td>6.1</td>\n",
       "      <td>6.2</td>\n",
       "      <td>0</td>\n",
       "    </tr>\n",
       "    <tr>\n",
       "      <th>4</th>\n",
       "      <td>7.4</td>\n",
       "      <td>3.4</td>\n",
       "      <td>1</td>\n",
       "    </tr>\n",
       "  </tbody>\n",
       "</table>\n",
       "</div>"
      ],
      "text/plain": [
       "   Gene One  Gene Two  Cancer Present\n",
       "0       4.3       3.9               1\n",
       "1       2.5       6.3               0\n",
       "2       5.7       3.9               1\n",
       "3       6.1       6.2               0\n",
       "4       7.4       3.4               1"
      ]
     },
     "execution_count": 34,
     "metadata": {},
     "output_type": "execute_result"
    }
   ],
   "source": [
    "df.head()"
   ]
  },
  {
   "cell_type": "code",
   "execution_count": 35,
   "id": "02aedf3b",
   "metadata": {},
   "outputs": [
    {
     "name": "stdout",
     "output_type": "stream",
     "text": [
      "<class 'pandas.core.frame.DataFrame'>\n",
      "RangeIndex: 3000 entries, 0 to 2999\n",
      "Data columns (total 3 columns):\n",
      " #   Column          Non-Null Count  Dtype  \n",
      "---  ------          --------------  -----  \n",
      " 0   Gene One        3000 non-null   float64\n",
      " 1   Gene Two        3000 non-null   float64\n",
      " 2   Cancer Present  3000 non-null   int64  \n",
      "dtypes: float64(2), int64(1)\n",
      "memory usage: 70.4 KB\n"
     ]
    }
   ],
   "source": [
    "df.info()"
   ]
  },
  {
   "cell_type": "code",
   "execution_count": 36,
   "id": "f4c83d3e",
   "metadata": {},
   "outputs": [
    {
     "data": {
      "text/html": [
       "<div>\n",
       "<style scoped>\n",
       "    .dataframe tbody tr th:only-of-type {\n",
       "        vertical-align: middle;\n",
       "    }\n",
       "\n",
       "    .dataframe tbody tr th {\n",
       "        vertical-align: top;\n",
       "    }\n",
       "\n",
       "    .dataframe thead th {\n",
       "        text-align: right;\n",
       "    }\n",
       "</style>\n",
       "<table border=\"1\" class=\"dataframe\">\n",
       "  <thead>\n",
       "    <tr style=\"text-align: right;\">\n",
       "      <th></th>\n",
       "      <th>Gene One</th>\n",
       "      <th>Gene Two</th>\n",
       "      <th>Cancer Present</th>\n",
       "    </tr>\n",
       "  </thead>\n",
       "  <tbody>\n",
       "    <tr>\n",
       "      <th>count</th>\n",
       "      <td>3000.000000</td>\n",
       "      <td>3000.000000</td>\n",
       "      <td>3000.000000</td>\n",
       "    </tr>\n",
       "    <tr>\n",
       "      <th>mean</th>\n",
       "      <td>5.600133</td>\n",
       "      <td>5.410467</td>\n",
       "      <td>0.500000</td>\n",
       "    </tr>\n",
       "    <tr>\n",
       "      <th>std</th>\n",
       "      <td>1.828388</td>\n",
       "      <td>1.729081</td>\n",
       "      <td>0.500083</td>\n",
       "    </tr>\n",
       "    <tr>\n",
       "      <th>min</th>\n",
       "      <td>1.000000</td>\n",
       "      <td>1.000000</td>\n",
       "      <td>0.000000</td>\n",
       "    </tr>\n",
       "    <tr>\n",
       "      <th>25%</th>\n",
       "      <td>4.300000</td>\n",
       "      <td>4.000000</td>\n",
       "      <td>0.000000</td>\n",
       "    </tr>\n",
       "    <tr>\n",
       "      <th>50%</th>\n",
       "      <td>5.600000</td>\n",
       "      <td>5.400000</td>\n",
       "      <td>0.500000</td>\n",
       "    </tr>\n",
       "    <tr>\n",
       "      <th>75%</th>\n",
       "      <td>6.900000</td>\n",
       "      <td>6.700000</td>\n",
       "      <td>1.000000</td>\n",
       "    </tr>\n",
       "    <tr>\n",
       "      <th>max</th>\n",
       "      <td>10.000000</td>\n",
       "      <td>10.000000</td>\n",
       "      <td>1.000000</td>\n",
       "    </tr>\n",
       "  </tbody>\n",
       "</table>\n",
       "</div>"
      ],
      "text/plain": [
       "          Gene One     Gene Two  Cancer Present\n",
       "count  3000.000000  3000.000000     3000.000000\n",
       "mean      5.600133     5.410467        0.500000\n",
       "std       1.828388     1.729081        0.500083\n",
       "min       1.000000     1.000000        0.000000\n",
       "25%       4.300000     4.000000        0.000000\n",
       "50%       5.600000     5.400000        0.500000\n",
       "75%       6.900000     6.700000        1.000000\n",
       "max      10.000000    10.000000        1.000000"
      ]
     },
     "execution_count": 36,
     "metadata": {},
     "output_type": "execute_result"
    }
   ],
   "source": [
    "df.describe()"
   ]
  },
  {
   "cell_type": "code",
   "execution_count": 37,
   "id": "bbca211e",
   "metadata": {},
   "outputs": [
    {
     "data": {
      "text/plain": [
       "array([1, 0], dtype=int64)"
      ]
     },
     "execution_count": 37,
     "metadata": {},
     "output_type": "execute_result"
    }
   ],
   "source": [
    "df[\"Cancer Present\"].unique()"
   ]
  },
  {
   "cell_type": "code",
   "execution_count": 38,
   "id": "ab527909",
   "metadata": {},
   "outputs": [
    {
     "data": {
      "text/plain": [
       "1    1500\n",
       "0    1500\n",
       "Name: Cancer Present, dtype: int64"
      ]
     },
     "execution_count": 38,
     "metadata": {},
     "output_type": "execute_result"
    }
   ],
   "source": [
    "df[\"Cancer Present\"].value_counts()"
   ]
  },
  {
   "cell_type": "code",
   "execution_count": 39,
   "id": "2e375b8f",
   "metadata": {},
   "outputs": [
    {
     "data": {
      "text/plain": [
       "Gene One          0\n",
       "Gene Two          0\n",
       "Cancer Present    0\n",
       "dtype: int64"
      ]
     },
     "execution_count": 39,
     "metadata": {},
     "output_type": "execute_result"
    }
   ],
   "source": [
    "df.isnull().sum()"
   ]
  },
  {
   "cell_type": "code",
   "execution_count": 40,
   "id": "2bec86d2",
   "metadata": {},
   "outputs": [],
   "source": [
    "X = df.drop('Cancer Present',axis=1)\n",
    "y = df['Cancer Present']"
   ]
  },
  {
   "cell_type": "code",
   "execution_count": 41,
   "id": "478fe2b8",
   "metadata": {},
   "outputs": [],
   "source": [
    "X_train, X_test, y_train, y_test = train_test_split(X, y, test_size=0.1, random_state=101)"
   ]
  },
  {
   "cell_type": "code",
   "execution_count": 42,
   "id": "59f52a17",
   "metadata": {},
   "outputs": [],
   "source": [
    "scaler = StandardScaler()"
   ]
  },
  {
   "cell_type": "code",
   "execution_count": 43,
   "id": "d063f7fd",
   "metadata": {},
   "outputs": [],
   "source": [
    "scaled_X_train = scaler.fit_transform(X_train)\n",
    "scaled_X_test = scaler.transform(X_test)"
   ]
  },
  {
   "cell_type": "markdown",
   "id": "f933f7c0",
   "metadata": {},
   "source": [
    "3.A) Logistic Regression Model\n",
    "-----"
   ]
  },
  {
   "cell_type": "code",
   "execution_count": 236,
   "id": "b50f5fec",
   "metadata": {},
   "outputs": [],
   "source": [
    "log_model = LogisticRegression()"
   ]
  },
  {
   "cell_type": "code",
   "execution_count": 237,
   "id": "c6449a3e",
   "metadata": {},
   "outputs": [
    {
     "data": {
      "text/plain": [
       "LogisticRegression()"
      ]
     },
     "execution_count": 237,
     "metadata": {},
     "output_type": "execute_result"
    }
   ],
   "source": [
    "log_model.fit(scaled_X_train,y_train)"
   ]
  },
  {
   "cell_type": "code",
   "execution_count": 238,
   "id": "06372e44",
   "metadata": {},
   "outputs": [
    {
     "data": {
      "text/plain": [
       "array([[ 1.11718777, -2.3076671 ]])"
      ]
     },
     "execution_count": 238,
     "metadata": {},
     "output_type": "execute_result"
    }
   ],
   "source": [
    "log_model.coef_"
   ]
  },
  {
   "cell_type": "code",
   "execution_count": 239,
   "id": "d96c33c8",
   "metadata": {},
   "outputs": [],
   "source": [
    "y_pred = log_model.predict(scaled_X_test)"
   ]
  },
  {
   "cell_type": "code",
   "execution_count": 240,
   "id": "336aea94",
   "metadata": {},
   "outputs": [
    {
     "data": {
      "text/plain": [
       "0.8466666666666667"
      ]
     },
     "execution_count": 240,
     "metadata": {},
     "output_type": "execute_result"
    }
   ],
   "source": [
    "accuracy_score(y_test,y_pred)"
   ]
  },
  {
   "cell_type": "code",
   "execution_count": 241,
   "id": "8d97285f",
   "metadata": {},
   "outputs": [
    {
     "data": {
      "text/plain": [
       "array([[113,  23],\n",
       "       [ 23, 141]], dtype=int64)"
      ]
     },
     "execution_count": 241,
     "metadata": {},
     "output_type": "execute_result"
    }
   ],
   "source": [
    "confusion_matrix(y_test,y_pred)"
   ]
  },
  {
   "cell_type": "code",
   "execution_count": 242,
   "id": "76c5810c",
   "metadata": {},
   "outputs": [
    {
     "name": "stdout",
     "output_type": "stream",
     "text": [
      "              precision    recall  f1-score   support\n",
      "\n",
      "           0       0.83      0.83      0.83       136\n",
      "           1       0.86      0.86      0.86       164\n",
      "\n",
      "    accuracy                           0.85       300\n",
      "   macro avg       0.85      0.85      0.85       300\n",
      "weighted avg       0.85      0.85      0.85       300\n",
      "\n"
     ]
    }
   ],
   "source": [
    "print(classification_report(y_test,y_pred))"
   ]
  },
  {
   "cell_type": "markdown",
   "id": "5546cb1d",
   "metadata": {},
   "source": [
    "3.B) KNN Model\n",
    "----"
   ]
  },
  {
   "cell_type": "code",
   "execution_count": 44,
   "id": "e13b4dd7",
   "metadata": {},
   "outputs": [],
   "source": [
    "test_error_rates = []\n",
    "\n",
    "\n",
    "for k in range(1,21):\n",
    "    knn_model = KNeighborsClassifier(n_neighbors=k)\n",
    "    knn_model.fit(scaled_X_train,y_train) \n",
    "   \n",
    "    y_pred_test = knn_model.predict(scaled_X_test)\n",
    "    \n",
    "    test_error = 1 - accuracy_score(y_test,y_pred_test)\n",
    "    test_error_rates.append(test_error)"
   ]
  },
  {
   "cell_type": "code",
   "execution_count": 45,
   "id": "b196298d",
   "metadata": {},
   "outputs": [
    {
     "data": {
      "text/plain": [
       "[0.07666666666666666,\n",
       " 0.10333333333333339,\n",
       " 0.09333333333333338,\n",
       " 0.09666666666666668,\n",
       " 0.07999999999999996,\n",
       " 0.07666666666666666,\n",
       " 0.07666666666666666,\n",
       " 0.07666666666666666,\n",
       " 0.08333333333333337,\n",
       " 0.08666666666666667,\n",
       " 0.07999999999999996,\n",
       " 0.09333333333333338,\n",
       " 0.08999999999999997,\n",
       " 0.09333333333333338,\n",
       " 0.07999999999999996,\n",
       " 0.07999999999999996,\n",
       " 0.07666666666666666,\n",
       " 0.07999999999999996,\n",
       " 0.06999999999999995,\n",
       " 0.07333333333333336]"
      ]
     },
     "execution_count": 45,
     "metadata": {},
     "output_type": "execute_result"
    }
   ],
   "source": [
    "test_error_rates"
   ]
  },
  {
   "cell_type": "code",
   "execution_count": 46,
   "id": "b5659557",
   "metadata": {},
   "outputs": [
    {
     "data": {
      "text/plain": [
       "Text(0.5, 0, 'K Value')"
      ]
     },
     "execution_count": 46,
     "metadata": {},
     "output_type": "execute_result"
    },
    {
     "data": {
      "image/png": "[encoded data removed]",
      "text/plain": [
       "<Figure size 2000x1200 with 1 Axes>"
      ]
     },
     "metadata": {
      "needs_background": "light"
     },
     "output_type": "display_data"
    }
   ],
   "source": [
    "plt.figure(figsize=(10,6),dpi=200)\n",
    "plt.plot(range(1,21),test_error_rates,label='Test Error')\n",
    "plt.legend()\n",
    "plt.ylabel('Error Rate')\n",
    "plt.xlabel(\"K Value\")"
   ]
  },
  {
   "cell_type": "markdown",
   "id": "c7ba5eb2",
   "metadata": {},
   "source": [
    "Best k = 19"
   ]
  },
  {
   "cell_type": "code",
   "execution_count": 85,
   "id": "173e53c6",
   "metadata": {},
   "outputs": [
    {
     "data": {
      "text/plain": [
       "KNeighborsClassifier(n_neighbors=19)"
      ]
     },
     "execution_count": 85,
     "metadata": {},
     "output_type": "execute_result"
    }
   ],
   "source": [
    "knn_model = KNeighborsClassifier(n_neighbors=19)\n",
    "knn_model.fit(scaled_X_train,y_train)"
   ]
  },
  {
   "cell_type": "code",
   "execution_count": 86,
   "id": "f240b3b7",
   "metadata": {},
   "outputs": [],
   "source": [
    "y_pred_test = knn_model.predict(scaled_X_test)"
   ]
  },
  {
   "cell_type": "code",
   "execution_count": 87,
   "id": "94999563",
   "metadata": {},
   "outputs": [
    {
     "data": {
      "text/plain": [
       "0.93"
      ]
     },
     "execution_count": 87,
     "metadata": {},
     "output_type": "execute_result"
    }
   ],
   "source": [
    "accuracy_score(y_test,y_pred_test)"
   ]
  },
  {
   "cell_type": "code",
   "execution_count": 88,
   "id": "c0fdb218",
   "metadata": {},
   "outputs": [
    {
     "data": {
      "text/plain": [
       "array([[125,  11],\n",
       "       [ 10, 154]], dtype=int64)"
      ]
     },
     "execution_count": 88,
     "metadata": {},
     "output_type": "execute_result"
    }
   ],
   "source": [
    "confusion_matrix(y_test,y_pred_test)"
   ]
  },
  {
   "cell_type": "code",
   "execution_count": 89,
   "id": "4ab7528c",
   "metadata": {},
   "outputs": [
    {
     "name": "stdout",
     "output_type": "stream",
     "text": [
      "              precision    recall  f1-score   support\n",
      "\n",
      "           0       0.93      0.92      0.92       136\n",
      "           1       0.93      0.94      0.94       164\n",
      "\n",
      "    accuracy                           0.93       300\n",
      "   macro avg       0.93      0.93      0.93       300\n",
      "weighted avg       0.93      0.93      0.93       300\n",
      "\n"
     ]
    }
   ],
   "source": [
    "print(classification_report(y_test,y_pred_test))"
   ]
  },
  {
   "cell_type": "markdown",
   "id": "5cb697f9",
   "metadata": {},
   "source": [
    "3.C) SVM Model\n",
    "-----"
   ]
  },
  {
   "cell_type": "markdown",
   "id": "77266de0",
   "metadata": {},
   "source": [
    "Linear Kernel"
   ]
  },
  {
   "cell_type": "code",
   "execution_count": 243,
   "id": "0e2e584b",
   "metadata": {},
   "outputs": [],
   "source": [
    "param_grid = {'C':[0.5,1],\n",
    "             'kernel':['linear'],\n",
    "              'gamma':['scale','auto']}"
   ]
  },
  {
   "cell_type": "code",
   "execution_count": 244,
   "id": "ba7181db",
   "metadata": {},
   "outputs": [],
   "source": [
    "svc = SVC()\n",
    "grid1 = GridSearchCV(svc,param_grid=param_grid)"
   ]
  },
  {
   "cell_type": "code",
   "execution_count": 245,
   "id": "1db8af00",
   "metadata": {},
   "outputs": [
    {
     "data": {
      "text/plain": [
       "GridSearchCV(estimator=SVC(),\n",
       "             param_grid={'C': [0.5, 1], 'gamma': ['scale', 'auto'],\n",
       "                         'kernel': ['linear']})"
      ]
     },
     "execution_count": 245,
     "metadata": {},
     "output_type": "execute_result"
    }
   ],
   "source": [
    "grid1.fit(scaled_X_train,y_train)"
   ]
  },
  {
   "cell_type": "code",
   "execution_count": 246,
   "id": "6e51892a",
   "metadata": {},
   "outputs": [],
   "source": [
    "grid_preds1 = grid1.predict(scaled_X_test)"
   ]
  },
  {
   "cell_type": "code",
   "execution_count": 247,
   "id": "9970f23c",
   "metadata": {},
   "outputs": [
    {
     "data": {
      "text/plain": [
       "0.8433333333333334"
      ]
     },
     "execution_count": 247,
     "metadata": {},
     "output_type": "execute_result"
    }
   ],
   "source": [
    "accuracy_score(y_test,grid_preds1)"
   ]
  },
  {
   "cell_type": "markdown",
   "id": "4235c5ed",
   "metadata": {},
   "source": [
    "rbf Kernel"
   ]
  },
  {
   "cell_type": "code",
   "execution_count": 248,
   "id": "c2bbed6c",
   "metadata": {},
   "outputs": [],
   "source": [
    "param_grid = {'C':[0.5,1],\n",
    "             'kernel':['rbf'],\n",
    "              'gamma':['scale','auto']}"
   ]
  },
  {
   "cell_type": "code",
   "execution_count": 249,
   "id": "bf35b965",
   "metadata": {},
   "outputs": [],
   "source": [
    "grid2 = GridSearchCV(svc,param_grid=param_grid)"
   ]
  },
  {
   "cell_type": "code",
   "execution_count": 250,
   "id": "7bffd56c",
   "metadata": {},
   "outputs": [
    {
     "data": {
      "text/plain": [
       "GridSearchCV(estimator=SVC(),\n",
       "             param_grid={'C': [0.5, 1], 'gamma': ['scale', 'auto'],\n",
       "                         'kernel': ['rbf']})"
      ]
     },
     "execution_count": 250,
     "metadata": {},
     "output_type": "execute_result"
    }
   ],
   "source": [
    "grid2.fit(scaled_X_train,y_train)"
   ]
  },
  {
   "cell_type": "code",
   "execution_count": 251,
   "id": "c6913371",
   "metadata": {},
   "outputs": [],
   "source": [
    "grid_preds2 = grid2.predict(scaled_X_test)"
   ]
  },
  {
   "cell_type": "code",
   "execution_count": 252,
   "id": "7fd1faa9",
   "metadata": {},
   "outputs": [
    {
     "data": {
      "text/plain": [
       "0.91"
      ]
     },
     "execution_count": 252,
     "metadata": {},
     "output_type": "execute_result"
    }
   ],
   "source": [
    "accuracy_score(y_test,grid_preds2)"
   ]
  },
  {
   "cell_type": "markdown",
   "id": "06c7a6a4",
   "metadata": {},
   "source": [
    "Sigmoid Kernel"
   ]
  },
  {
   "cell_type": "code",
   "execution_count": 258,
   "id": "eba1c935",
   "metadata": {},
   "outputs": [],
   "source": [
    "param_grid = {'C':[0.5,1],\n",
    "             'kernel':['sigmoid'],\n",
    "              'gamma':['scale','auto']}"
   ]
  },
  {
   "cell_type": "code",
   "execution_count": 259,
   "id": "fd56a33c",
   "metadata": {},
   "outputs": [],
   "source": [
    "grid3 = GridSearchCV(svc,param_grid=param_grid)"
   ]
  },
  {
   "cell_type": "code",
   "execution_count": 260,
   "id": "16493477",
   "metadata": {},
   "outputs": [
    {
     "data": {
      "text/plain": [
       "GridSearchCV(estimator=SVC(),\n",
       "             param_grid={'C': [0.5, 1], 'gamma': ['scale', 'auto'],\n",
       "                         'kernel': ['sigmoid']})"
      ]
     },
     "execution_count": 260,
     "metadata": {},
     "output_type": "execute_result"
    }
   ],
   "source": [
    "grid3.fit(scaled_X_train,y_train)"
   ]
  },
  {
   "cell_type": "code",
   "execution_count": 261,
   "id": "d09d70ea",
   "metadata": {},
   "outputs": [],
   "source": [
    "grid_preds3 = grid3.predict(scaled_X_test)"
   ]
  },
  {
   "cell_type": "code",
   "execution_count": 262,
   "id": "4d7712ad",
   "metadata": {},
   "outputs": [
    {
     "data": {
      "text/plain": [
       "0.6666666666666666"
      ]
     },
     "execution_count": 262,
     "metadata": {},
     "output_type": "execute_result"
    }
   ],
   "source": [
    "accuracy_score(y_test,grid_preds3)"
   ]
  },
  {
   "cell_type": "markdown",
   "id": "28b6bcb3",
   "metadata": {},
   "source": [
    "Linear vs rbf vs Sigmoid\n",
    "* Linear has accuracy equals 84.3%\n",
    "* rbf has accuracy equals 91%\n",
    "* sigmoid has accuracy equals 66.6%\n",
    "\n",
    "so we choose the rbf kernel as it has the highest accuracy"
   ]
  },
  {
   "cell_type": "code",
   "execution_count": 263,
   "id": "7d88596c",
   "metadata": {},
   "outputs": [
    {
     "data": {
      "text/plain": [
       "array([[121,  15],\n",
       "       [ 12, 152]], dtype=int64)"
      ]
     },
     "execution_count": 263,
     "metadata": {},
     "output_type": "execute_result"
    }
   ],
   "source": [
    "confusion_matrix(y_test,grid_preds2)"
   ]
  },
  {
   "cell_type": "markdown",
   "id": "a3f72101",
   "metadata": {},
   "source": [
    "Classification report for rbf kernel as it is the best kernel because it has the highest accuracy"
   ]
  },
  {
   "cell_type": "code",
   "execution_count": 264,
   "id": "790d5771",
   "metadata": {},
   "outputs": [
    {
     "name": "stdout",
     "output_type": "stream",
     "text": [
      "              precision    recall  f1-score   support\n",
      "\n",
      "           0       0.91      0.89      0.90       136\n",
      "           1       0.91      0.93      0.92       164\n",
      "\n",
      "    accuracy                           0.91       300\n",
      "   macro avg       0.91      0.91      0.91       300\n",
      "weighted avg       0.91      0.91      0.91       300\n",
      "\n"
     ]
    }
   ],
   "source": [
    "print(classification_report(y_test,grid_preds2))"
   ]
  },
  {
   "cell_type": "markdown",
   "id": "0b5b77b7",
   "metadata": {},
   "source": [
    "3.D) Comments\n",
    "---"
   ]
  },
  {
   "cell_type": "markdown",
   "id": "9a1998bd",
   "metadata": {},
   "source": [
    "Let's recap on the performance in terms of accuracy score of each model : \n",
    "* Logistic Regression gives accuracy equals 84.6%\n",
    "* KNN gives accuracy equals 93%\n",
    "* SVM gives accuracy equals 91%\n",
    "\n",
    "So, we choose the KNN model to be the best out of them, as it has the highest accuracy"
   ]
  },
  {
   "cell_type": "markdown",
   "id": "fa556d2e",
   "metadata": {},
   "source": [
    "##########################################################################################################################"
   ]
  }
 ],
 "metadata": {
  "kernelspec": {
   "display_name": "Python 3 (ipykernel)",
   "language": "python",
   "name": "python3"
  },
  "language_info": {
   "codemirror_mode": {
    "name": "ipython",
    "version": 3
   },
   "file_extension": ".py",
   "mimetype": "text/x-python",
   "name": "python",
   "nbconvert_exporter": "python",
   "pygments_lexer": "ipython3",
   "version": "3.9.7"
  }
 },
 "nbformat": 4,
 "nbformat_minor": 5
}
